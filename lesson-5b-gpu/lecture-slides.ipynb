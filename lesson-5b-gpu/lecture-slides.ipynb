{
 "cells": [
  {
   "cell_type": "markdown",
   "id": "1e6d712d-95bc-4e62-b926-61464854b1ec",
   "metadata": {},
   "source": [
    "# Lesson 5b: GPU programming in Python"
   ]
  }
 ],
 "metadata": {
  "kernelspec": {
   "display_name": "Python 3 (ipykernel)",
   "language": "python",
   "name": "python3"
  },
  "language_info": {
   "codemirror_mode": {
    "name": "ipython",
    "version": 3
   },
   "file_extension": ".py",
   "mimetype": "text/x-python",
   "name": "python",
   "nbconvert_exporter": "python",
   "pygments_lexer": "ipython3",
   "version": "3.10.13"
  }
 },
 "nbformat": 4,
 "nbformat_minor": 5
}
