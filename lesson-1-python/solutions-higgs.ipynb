{
 "cells": [
  {
   "cell_type": "markdown",
   "id": "ea87763f-034c-42f0-8051-096ffb82316c",
   "metadata": {
    "editable": true,
    "slideshow": {
     "slide_type": ""
    },
    "tags": []
   },
   "source": [
    "# Lesson 1 solutions: Finding Higgs decays"
   ]
  },
  {
   "cell_type": "markdown",
   "id": "e589eeda-f974-40a3-a031-084694e9513a",
   "metadata": {
    "editable": true,
    "slideshow": {
     "slide_type": ""
    },
    "tags": []
   },
   "source": [
    "<br><br><br><br><br>"
   ]
  },
  {
   "cell_type": "markdown",
   "id": "d5039e3e-aa19-48cb-af8b-1b27b1ae5454",
   "metadata": {
    "editable": true,
    "slideshow": {
     "slide_type": ""
    },
    "tags": []
   },
   "source": [
    "## Getting data, building objects"
   ]
  },
  {
   "cell_type": "code",
   "execution_count": 1,
   "id": "88e6bc5f-a42f-49a6-8a02-659da871d1b7",
   "metadata": {
    "editable": true,
    "slideshow": {
     "slide_type": ""
    },
    "tags": []
   },
   "outputs": [],
   "source": [
    "import json\n",
    "\n",
    "import numpy as np\n",
    "import vector\n",
    "\n",
    "dataset = json.load(open(\"../data/SMHiggsToZZTo4L.json\"))\n",
    "\n",
    "def to_vector(particle):\n",
    "    return vector.obj(\n",
    "        pt=particle[\"pt\"],\n",
    "        eta=particle[\"eta\"],\n",
    "        phi=particle[\"phi\"],\n",
    "        mass=particle[\"mass\"],\n",
    "    )"
   ]
  },
  {
   "cell_type": "code",
   "execution_count": 2,
   "id": "f646e1bd-34cf-4949-b308-ea347e49389e",
   "metadata": {
    "editable": true,
    "slideshow": {
     "slide_type": ""
    },
    "tags": []
   },
   "outputs": [],
   "source": [
    "class Particle:\n",
    "    def __init__(self, E, px, py, pz, charge, flavor):\n",
    "        self.E = E\n",
    "        self.px = px\n",
    "        self.py = py\n",
    "        self.pz = pz\n",
    "        self.charge = charge\n",
    "        self.flavor = flavor\n",
    "\n",
    "    def __repr__(self):\n",
    "        return f\"<{type(self).__name__} E={self.E} px={self.px} py={self.py} pz={self.pz} charge={self.charge} flavor={self.flavor!r}>\"\n",
    "\n",
    "    # the '__add__' method gives meaning to 'particle + particle'\n",
    "    def __add__(self, other):\n",
    "        return Particle(\n",
    "            self.E + other.E,\n",
    "            self.px + other.px,\n",
    "            self.py + other.py,\n",
    "            self.pz + other.pz,\n",
    "            self.charge + other.charge,\n",
    "            \"none\"\n",
    "            if self.charge + other.charge == 0\n",
    "            else f\"{self.flavor}-{other.flavor}\",\n",
    "        )\n",
    "\n",
    "    # '@property' means we can call this method without parentheses, as though it were an attribute\n",
    "    @property\n",
    "    def mass(self):\n",
    "        return vector.obj(E=self.E, px=self.px, py=self.py, pz=self.pz).mass"
   ]
  },
  {
   "cell_type": "code",
   "execution_count": 3,
   "id": "afb86c4c-c6e1-4a96-8eeb-0d447a2d09a2",
   "metadata": {
    "editable": true,
    "slideshow": {
     "slide_type": ""
    },
    "tags": []
   },
   "outputs": [],
   "source": [
    "leptons = []  # a \"lepton\" is an electron or a muon, distinguished by its \"flavor\"\n",
    "\n",
    "event = dataset[96]  # a nice event with 3 electrons and 3 muons\n",
    "\n",
    "for particle in event[\"electron\"]:\n",
    "    v = to_vector(particle)\n",
    "    leptons.append(Particle(v.E, v.px, v.py, v.pz, particle[\"charge\"], \"electron\"))\n",
    "\n",
    "for particle in event[\"muon\"]:\n",
    "    v = to_vector(particle)\n",
    "    leptons.append(Particle(v.E, v.px, v.py, v.pz, particle[\"charge\"], \"muon\"))"
   ]
  },
  {
   "cell_type": "code",
   "execution_count": 4,
   "id": "bfcb0ba0-e9f1-4d89-8218-2f8649816d20",
   "metadata": {
    "editable": true,
    "slideshow": {
     "slide_type": ""
    },
    "tags": []
   },
   "outputs": [],
   "source": [
    "z_candidates_step0 = []\n",
    "for i, lepton_i in enumerate(leptons):\n",
    "    for j, lepton_j in enumerate(leptons):\n",
    "        if i < j:\n",
    "            z_candidates_step0.append({\"index\": [i, j], \"Z boson\": lepton_i + lepton_j})"
   ]
  },
  {
   "cell_type": "markdown",
   "id": "ba40b2b5-3579-4212-9278-45d0014e9d48",
   "metadata": {
    "editable": true,
    "slideshow": {
     "slide_type": ""
    },
    "tags": []
   },
   "source": [
    "<br><br><br><br><br>"
   ]
  },
  {
   "cell_type": "markdown",
   "id": "aff63d1a-11f9-444c-9668-bd9d61b32e25",
   "metadata": {
    "editable": true,
    "slideshow": {
     "slide_type": ""
    },
    "tags": []
   },
   "source": [
    "## Exercise part 1"
   ]
  },
  {
   "cell_type": "markdown",
   "id": "07afb069-5414-4589-9186-7d043d8d0961",
   "metadata": {
    "editable": true,
    "slideshow": {
     "slide_type": ""
    },
    "tags": []
   },
   "source": [
    "Z bosons always decay into particles of opposite charge and identical flavor. Reduce the set of candidates by excluding ones with the wrong properties."
   ]
  },
  {
   "cell_type": "code",
   "execution_count": 5,
   "id": "99e4fa36-f63c-44b8-b075-5ca96d554d19",
   "metadata": {
    "tags": []
   },
   "outputs": [],
   "source": [
    "z_candidates_step1 = []\n",
    "for candidate in z_candidates_step0:\n",
    "    i, j = candidate[\"index\"]\n",
    "    z_boson = candidate[\"Z boson\"]\n",
    "    if z_boson.charge == 0 and z_boson.flavor == \"none\":\n",
    "        z_candidates_step1.append(candidate)"
   ]
  },
  {
   "cell_type": "markdown",
   "id": "75cb7d15-e3c9-4215-aa17-3a1fd0b825ef",
   "metadata": {
    "tags": []
   },
   "source": [
    "Print the masses of these Z boson candidates."
   ]
  },
  {
   "cell_type": "code",
   "execution_count": 6,
   "id": "5c5524d8-22f8-4526-8608-b58528cbf034",
   "metadata": {},
   "outputs": [
    {
     "name": "stdout",
     "output_type": "stream",
     "text": [
      "94.65200565609616\n",
      "62.03397488944119\n",
      "3.4170504361020386\n",
      "3.087732909498452\n",
      "45.69023328291948\n",
      "3.6622583780140623\n",
      "26.45024522236556\n",
      "3.27373703909123\n"
     ]
    }
   ],
   "source": [
    "for candidate in z_candidates_step1:\n",
    "    print(candidate[\"Z boson\"].mass)"
   ]
  },
  {
   "cell_type": "markdown",
   "id": "63b2bfd8-66c5-4704-9cef-a02d32f44352",
   "metadata": {},
   "source": [
    "or use a Python list comprehension:"
   ]
  },
  {
   "cell_type": "code",
   "execution_count": 7,
   "id": "2b46172d-9ae2-4c4b-b839-3c8c43d9e228",
   "metadata": {},
   "outputs": [
    {
     "data": {
      "text/plain": [
       "[94.65200565609616,\n",
       " 62.03397488944119,\n",
       " 3.4170504361020386,\n",
       " 3.087732909498452,\n",
       " 45.69023328291948,\n",
       " 3.6622583780140623,\n",
       " 26.45024522236556,\n",
       " 3.27373703909123]"
      ]
     },
     "execution_count": 7,
     "metadata": {},
     "output_type": "execute_result"
    }
   ],
   "source": [
    "[candidate[\"Z boson\"].mass for candidate in z_candidates_step1]"
   ]
  },
  {
   "cell_type": "markdown",
   "id": "8fe0cb0f-eac2-463f-9fff-d5a94cf628f0",
   "metadata": {
    "editable": true,
    "slideshow": {
     "slide_type": ""
    },
    "tags": []
   },
   "source": [
    "<br><br><br><br><br>"
   ]
  },
  {
   "cell_type": "markdown",
   "id": "4536ea5b-f5a2-49d7-8e6a-82573ddc615a",
   "metadata": {
    "editable": true,
    "slideshow": {
     "slide_type": ""
    },
    "tags": []
   },
   "source": [
    "## Exercise part 2"
   ]
  },
  {
   "cell_type": "markdown",
   "id": "7108f97b-e182-401d-b841-9636dbf4b509",
   "metadata": {
    "editable": true,
    "slideshow": {
     "slide_type": ""
    },
    "tags": []
   },
   "source": [
    "The Higgs boson decays into two Z bosons. The only constraint here is that a lepton from one Z decay can't also be a lepton from the other Z decay."
   ]
  },
  {
   "cell_type": "code",
   "execution_count": 8,
   "id": "71cd538c-3b4e-4639-b931-cd34c2a4de61",
   "metadata": {
    "editable": true,
    "slideshow": {
     "slide_type": ""
    },
    "tags": []
   },
   "outputs": [],
   "source": [
    "higgs_candidates_step1 = []\n",
    "\n",
    "for z_index1, z_candidate1 in enumerate(z_candidates_step1):\n",
    "    for z_index2, z_candidate2 in enumerate(z_candidates_step1):\n",
    "        if z_index1 < z_index2:\n",
    "            lepton_i1, lepton_j1 = z_candidate1[\"index\"]\n",
    "            lepton_i2, lepton_j2 = z_candidate2[\"index\"]\n",
    "            z_boson1 = z_candidate1[\"Z boson\"]\n",
    "            z_boson2 = z_candidate2[\"Z boson\"]\n",
    "\n",
    "            if (lepton_i1 != lepton_i2 and lepton_i1 != lepton_j2) and (lepton_j1 != lepton_i2 and lepton_j1 != lepton_j2):\n",
    "                higgs_candidates_step1.append(\n",
    "                    {\n",
    "                        \"index\": [lepton_i1, lepton_j1, lepton_i2, lepton_j2],\n",
    "                        \"H boson\": z_boson1 + z_boson2,\n",
    "                        \"Z bosons\": [z_boson1, z_boson2],\n",
    "                    }\n",
    "                )"
   ]
  },
  {
   "cell_type": "markdown",
   "id": "d3c93b41-eff9-4ed0-9566-79fdf6406214",
   "metadata": {},
   "source": [
    "You could have also used\n",
    "\n",
    "```python\n",
    "if lepton_i1 not in (lepton_i2, lepton_j2) and lepton_j1 not in (lepton_i2, lepton_j2):\n",
    "```\n",
    "\n",
    "or several other, equivalent variants."
   ]
  },
  {
   "cell_type": "markdown",
   "id": "081fdd70-5384-4f80-9a81-090a8df6645f",
   "metadata": {},
   "source": [
    "Print out the indexes and masses of the candidates."
   ]
  },
  {
   "cell_type": "code",
   "execution_count": 9,
   "id": "92bc2641-c8a0-45f3-8a6e-b8d88c7db2ed",
   "metadata": {
    "tags": []
   },
   "outputs": [
    {
     "name": "stdout",
     "output_type": "stream",
     "text": [
      "[0, 2, 1, 3] 118.25980390632363\n",
      "[0, 2, 3, 4] 129.03461596915875\n",
      "[0, 2, 3, 5] 118.83117770896321\n",
      "[0, 3, 1, 2] 118.25980390632363\n",
      "[0, 3, 2, 4] 129.03461596915875\n",
      "[0, 3, 2, 5] 118.83117770896315\n",
      "[1, 2, 3, 4] 56.10989169721264\n",
      "[1, 2, 3, 5] 12.750734071856304\n",
      "[1, 3, 2, 4] 56.10989169721264\n",
      "[1, 3, 2, 5] 12.750734071855733\n",
      "[2, 4, 3, 5] 56.3856286987971\n",
      "[2, 5, 3, 4] 56.3856286987971\n"
     ]
    }
   ],
   "source": [
    "for higgs_candidate in higgs_candidates_step1:\n",
    "    print(higgs_candidate[\"index\"], higgs_candidate[\"H boson\"].mass)"
   ]
  },
  {
   "cell_type": "markdown",
   "id": "e87289b6-80c3-4348-b54b-2621d8db1c5e",
   "metadata": {
    "tags": []
   },
   "source": [
    "Even though each candidate avoids double-counting within itself, the same combination of four indexes can be found among the candidates. We want only one of each.\n",
    "\n",
    "Let's collect these Higgs candidates by unique sets of indexes. The `sorted` function sorts a list, and `tuple` makes it possible to use them as keys in a dict."
   ]
  },
  {
   "cell_type": "code",
   "execution_count": 10,
   "id": "be7e9e44-f718-4365-96b3-6453a09bfeae",
   "metadata": {
    "tags": []
   },
   "outputs": [],
   "source": [
    "higgs_candidates_step2 = {}\n",
    "\n",
    "for higgs_candidate in higgs_candidates_step1:\n",
    "    combination = tuple(sorted(higgs_candidate[\"index\"]))\n",
    "\n",
    "    if combination not in higgs_candidates_step2:\n",
    "        higgs_candidates_step2[combination] = []\n",
    "\n",
    "    higgs_candidates_step2[combination].append(higgs_candidate)"
   ]
  },
  {
   "cell_type": "markdown",
   "id": "83cabb41-6fbb-43ed-bb4f-6eb184d03ca9",
   "metadata": {
    "tags": []
   },
   "source": [
    "This `higgs_candidates_step2` has deep structure:\n",
    "\n",
    "  * Keys are sets combinations of lepton indexes, without regard for their original order.\n",
    "  * Values are a list of decay trees.\n",
    "    - Each element of that list has a candidate Higgs mass and two candidate Z masses."
   ]
  },
  {
   "cell_type": "code",
   "execution_count": 11,
   "id": "070924bd-3936-4bd8-8971-e022c93f0e65",
   "metadata": {
    "editable": true,
    "slideshow": {
     "slide_type": ""
    },
    "tags": []
   },
   "outputs": [
    {
     "name": "stdout",
     "output_type": "stream",
     "text": [
      "(0, 1, 2, 3)\n",
      "    Higgs: 118.25980390632363 Z: 94.65200565609616 3.087732909498452\n",
      "    Higgs: 118.25980390632363 Z: 62.03397488944119 3.4170504361020386\n",
      "(0, 2, 3, 4)\n",
      "    Higgs: 129.03461596915875 Z: 94.65200565609616 26.45024522236556\n",
      "    Higgs: 129.03461596915875 Z: 62.03397488944119 45.69023328291948\n",
      "(0, 2, 3, 5)\n",
      "    Higgs: 118.83117770896321 Z: 94.65200565609616 3.27373703909123\n",
      "    Higgs: 118.83117770896315 Z: 62.03397488944119 3.6622583780140623\n",
      "(1, 2, 3, 4)\n",
      "    Higgs: 56.10989169721264 Z: 3.4170504361020386 26.45024522236556\n",
      "    Higgs: 56.10989169721264 Z: 3.087732909498452 45.69023328291948\n",
      "(1, 2, 3, 5)\n",
      "    Higgs: 12.750734071856304 Z: 3.4170504361020386 3.27373703909123\n",
      "    Higgs: 12.750734071855733 Z: 3.087732909498452 3.6622583780140623\n",
      "(2, 3, 4, 5)\n",
      "    Higgs: 56.3856286987971 Z: 45.69023328291948 3.27373703909123\n",
      "    Higgs: 56.3856286987971 Z: 3.6622583780140623 26.45024522236556\n"
     ]
    }
   ],
   "source": [
    "for combination in higgs_candidates_step2:\n",
    "    print(combination)\n",
    "    for higgs_candidate in higgs_candidates_step2[combination]:\n",
    "        z_boson1, z_boson2 = higgs_candidate[\"Z bosons\"]\n",
    "        print(\n",
    "            \"    Higgs:\",\n",
    "            higgs_candidate[\"H boson\"].mass,\n",
    "            \"Z:\",\n",
    "            z_boson1.mass,\n",
    "            z_boson2.mass,\n",
    "        )"
   ]
  },
  {
   "cell_type": "markdown",
   "id": "583a787e-1c9a-406e-82ce-d23c29783b87",
   "metadata": {
    "editable": true,
    "slideshow": {
     "slide_type": ""
    },
    "tags": []
   },
   "source": [
    "<br><br><br><br><br>"
   ]
  },
  {
   "cell_type": "markdown",
   "id": "f8cdae07-0508-4859-a4df-a37f82c76420",
   "metadata": {
    "editable": true,
    "slideshow": {
     "slide_type": ""
    },
    "tags": []
   },
   "source": [
    "## Exercise part 3"
   ]
  },
  {
   "cell_type": "markdown",
   "id": "fd2a27f4-62ab-404c-b682-91fb1dbaa4e8",
   "metadata": {
    "editable": true,
    "slideshow": {
     "slide_type": ""
    },
    "tags": []
   },
   "source": [
    "One of the selections that the 2012 Higgs discovery analysis applied was:\n",
    "\n",
    "  * 12 GeV/$c^2$ < smallest Z mass < 120 GeV/$c^2$\n",
    "  * 40 GeV/$c^2$ < largest Z mass < 120 GeV/$c^2$\n",
    "\n",
    "because this is expected of real Higgs decays.\n",
    "\n",
    "Apply the Z mass constraint to these Higgs candidates."
   ]
  },
  {
   "cell_type": "code",
   "execution_count": 12,
   "id": "6d6ba349-8de7-4517-aa67-77255795856e",
   "metadata": {
    "tags": []
   },
   "outputs": [],
   "source": [
    "higgs_candidates_step3 = {}\n",
    "\n",
    "for combination in higgs_candidates_step2:\n",
    "    higgs_candidates_step3[combination] = []\n",
    "\n",
    "    for higgs_candidate in higgs_candidates_step2[combination]:\n",
    "        z_boson1, z_boson2 = higgs_candidate[\"Z bosons\"]\n",
    "        if z_boson1.mass < z_boson2.mass:\n",
    "            smallest_z_mass, largest_z_mass = z_boson1.mass, z_boson2.mass\n",
    "        else:\n",
    "            smallest_z_mass, largest_z_mass = z_boson2.mass, z_boson1.mass\n",
    "\n",
    "        if 12 < smallest_z_mass < 120 and 40 < largest_z_mass < 120:\n",
    "            higgs_candidates_step3[combination].append(higgs_candidate)"
   ]
  },
  {
   "cell_type": "markdown",
   "id": "b679bd8e-cf23-4fb8-b1f9-40d7eee0ee5f",
   "metadata": {},
   "source": [
    "You could have used\n",
    "\n",
    "```python\n",
    "smallest_z_mass = z_boson1.mass if z_boson1.mass < z_boson2.mass else z_boson2.mass\n",
    "largest_z_mass = z_boson1.mass if z_boson1.mass >= z_boson2.mass else z_boson2.mass\n",
    "```\n",
    "\n",
    "or\n",
    "\n",
    "```python\n",
    "smallest_z_mass, largest_z_mass = sorted([z_boson1.mass, z_boson2.mass])\n",
    "```\n",
    "\n",
    "or several other, equivalent, variants."
   ]
  },
  {
   "cell_type": "markdown",
   "id": "e910daec-2f3a-4e73-9f50-04289eac375f",
   "metadata": {
    "tags": []
   },
   "source": [
    "In the end,"
   ]
  },
  {
   "cell_type": "code",
   "execution_count": 13,
   "id": "ceb265ac-8534-4e26-a5a5-803fc7745107",
   "metadata": {
    "editable": true,
    "slideshow": {
     "slide_type": ""
    },
    "tags": []
   },
   "outputs": [
    {
     "name": "stdout",
     "output_type": "stream",
     "text": [
      "(0, 1, 2, 3)\n",
      "(0, 2, 3, 4)\n",
      "    Higgs: 129.03461596915875 Z: 94.65200565609616 26.45024522236556\n",
      "    Higgs: 129.03461596915875 Z: 62.03397488944119 45.69023328291948\n",
      "(0, 2, 3, 5)\n",
      "(1, 2, 3, 4)\n",
      "(1, 2, 3, 5)\n",
      "(2, 3, 4, 5)\n"
     ]
    }
   ],
   "source": [
    "for combination in higgs_candidates_step3:\n",
    "    print(combination)\n",
    "    for higgs_candidate in higgs_candidates_step3[combination]:\n",
    "        z_boson1, z_boson2 = higgs_candidate[\"Z bosons\"]\n",
    "        print(\n",
    "            \"    Higgs:\",\n",
    "            higgs_candidate[\"H boson\"].mass,\n",
    "            \"Z:\",\n",
    "            z_boson1.mass,\n",
    "            z_boson2.mass,\n",
    "        )"
   ]
  }
 ],
 "metadata": {
  "kernelspec": {
   "display_name": "Python 3 (ipykernel)",
   "language": "python",
   "name": "python3"
  },
  "language_info": {
   "codemirror_mode": {
    "name": "ipython",
    "version": 3
   },
   "file_extension": ".py",
   "mimetype": "text/x-python",
   "name": "python",
   "nbconvert_exporter": "python",
   "pygments_lexer": "ipython3",
   "version": "3.10.14"
  }
 },
 "nbformat": 4,
 "nbformat_minor": 5
}
