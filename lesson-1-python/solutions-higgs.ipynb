{
 "cells": [
  {
   "cell_type": "markdown",
   "id": "ea87763f-034c-42f0-8051-096ffb82316c",
   "metadata": {},
   "source": [
    "# Lesson 1 solutions: finding Higgs decays"
   ]
  }
 ],
 "metadata": {
  "kernelspec": {
   "display_name": "Python 3 (ipykernel)",
   "language": "python",
   "name": "python3"
  },
  "language_info": {
   "codemirror_mode": {
    "name": "ipython",
    "version": 3
   },
   "file_extension": ".py",
   "mimetype": "text/x-python",
   "name": "python",
   "nbconvert_exporter": "python",
   "pygments_lexer": "ipython3",
   "version": "3.10.13"
  }
 },
 "nbformat": 4,
 "nbformat_minor": 5
}
