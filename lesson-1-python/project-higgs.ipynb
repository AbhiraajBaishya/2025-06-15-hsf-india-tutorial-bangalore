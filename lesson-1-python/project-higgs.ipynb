{
 "cells": [
  {
   "cell_type": "markdown",
   "id": "a2050b10-65b8-48ef-81fa-64a52340346f",
   "metadata": {},
   "source": [
    "# Lesson 1 project: finding Higgs decays"
   ]
  }
 ],
 "metadata": {
  "kernelspec": {
   "display_name": "Python 3 (ipykernel)",
   "language": "python",
   "name": "python3"
  },
  "language_info": {
   "codemirror_mode": {
    "name": "ipython",
    "version": 3
   },
   "file_extension": ".py",
   "mimetype": "text/x-python",
   "name": "python",
   "nbconvert_exporter": "python",
   "pygments_lexer": "ipython3",
   "version": "3.10.13"
  }
 },
 "nbformat": 4,
 "nbformat_minor": 5
}
