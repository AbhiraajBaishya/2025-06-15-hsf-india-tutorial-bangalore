{
 "cells": [
  {
   "cell_type": "markdown",
   "id": "a2050b10-65b8-48ef-81fa-64a52340346f",
   "metadata": {
    "editable": true,
    "slideshow": {
     "slide_type": ""
    },
    "tags": []
   },
   "source": [
    "# Lesson 1 project: Finding Higgs decays"
   ]
  },
  {
   "cell_type": "markdown",
   "id": "9c2bf7e2-6b02-49fb-9fc5-888ef9406e78",
   "metadata": {
    "editable": true,
    "slideshow": {
     "slide_type": ""
    },
    "tags": []
   },
   "source": [
    "## Physics background"
   ]
  },
  {
   "cell_type": "markdown",
   "id": "f523b1a8-f121-4eb5-9e9a-2810c4b4e432",
   "metadata": {
    "editable": true,
    "slideshow": {
     "slide_type": ""
    },
    "tags": []
   },
   "source": [
    "The particle-search problem may be familiar to some of you—this background section is provided in case it isn't. If you know about this stuff already, you can skip to the next section.\n",
    "\n",
    "The general problem is that most of the particles we want to study are invisible to our instruments, but if we can observe the particles they decay into, we can reconstruct the original particles.\n",
    "\n",
    "For example, ${K^0}_S$ is a particle with no charge and a relatively short lifetime. It decays after $10^{-10}$ seconds, which is about 3 centimeters of flight close to the speed of light. Uncharged particles do not leave traces in tracking detectors, which work by collecting ionized gas from charged particles. Fortunately, ${K^0}_S$ often decays into two charged particles, $\\pi^+$ and $\\pi^-$. In a tracking detector, the $\\pi^+$ and $\\pi^-$ seem to come out of nowhere.\n",
    "\n",
    "On the left, we see a ${K^0}_S \\to \\pi^+ \\pi^-$ in a bubble chamber (1960's), and on the right, we see the same decay in the CMS silicon tracker (2010's). In both cases, the vertex where the ${K^0}_S$ was created is also visible."
   ]
  },
  {
   "cell_type": "markdown",
   "id": "3317bce5-a48a-4cc9-870d-84151a8656b4",
   "metadata": {
    "editable": true,
    "slideshow": {
     "slide_type": ""
    },
    "tags": []
   },
   "source": [
    "<center>\n",
    "<img src=\"../img/kshort-1.png\" style=\"height: 400px; margin-right: 20px\"><img src=\"../img/kshort-2.png\" style=\"height: 400px\">\n",
    "</center>"
   ]
  },
  {
   "cell_type": "markdown",
   "id": "b2a1b71c-a7df-43c7-8230-8bc45c3b2aa0",
   "metadata": {
    "editable": true,
    "slideshow": {
     "slide_type": ""
    },
    "tags": []
   },
   "source": [
    "In a tracking detector, we can fully measure the momentum of charged particles, and since energy and momentum are conserved in decays, we know that the sum of energy and momentum of the decay products ($\\pi^+$ and $\\pi^-$) are the energy and momentum of the particle that decayed (${K^0}_S$). Using\n",
    "\n",
    "$$p = \\sqrt{{p_x}^2 + {p_y}^2 + {p_z}^2}$$\n",
    "\n",
    "$$m = \\sqrt{E^2 - p^2}$$\n",
    "\n",
    "we can reconstruct the mass $m$ of the particle that decayed.\n",
    "\n",
    "The problem is identifying which two tracks are the decay products of the specific particle we're interested in. A collision event produces many particles and many tracks."
   ]
  },
  {
   "cell_type": "markdown",
   "id": "5ed111f6-99ce-4199-809f-78778a0e5eb7",
   "metadata": {
    "editable": true,
    "slideshow": {
     "slide_type": ""
    },
    "tags": []
   },
   "source": [
    "<center>\n",
    "<img src=\"../img/090324_ALICE-hirez.jpg\" style=\"height: 400px\">\n",
    "</center>"
   ]
  },
  {
   "cell_type": "markdown",
   "id": "bd86ee73-97a9-4bb1-a8c2-05ad61a053a3",
   "metadata": {
    "editable": true,
    "slideshow": {
     "slide_type": ""
    },
    "tags": []
   },
   "source": [
    "Luckily, for most pairs of those tracks, the reconstructed mass is nowhere near the true mass of the particle. When we iterate over all pairs of tracks, compute the reconstructed masses, and plot a histogram of them, we usually see something like"
   ]
  },
  {
   "cell_type": "markdown",
   "id": "e8a9db3f-189b-4b76-8edb-cba56a0a84b4",
   "metadata": {
    "editable": true,
    "slideshow": {
     "slide_type": ""
    },
    "tags": []
   },
   "source": [
    "<center>\n",
    "<img src=\"../img/kshort-3.png\" style=\"height: 500px\">\n",
    "</center>"
   ]
  },
  {
   "cell_type": "markdown",
   "id": "c8773186-b7ed-45c2-8e9e-b688342a1162",
   "metadata": {
    "editable": true,
    "slideshow": {
     "slide_type": ""
    },
    "tags": []
   },
   "source": [
    "The peak consists of true ${K^0}_S \\to \\pi^+ \\pi^-$ decays, and it is not perfectly narrow because of detector resolution and quantum mechanics. (Very short lived particles have wide mass distributions.) The background under the peak consists of random track pairs that were not ${K^0}_S \\to \\pi^+ \\pi^-$ decays.\n",
    "\n",
    "In this exercise, you will be looking for Higgs decays, which have two stages:\n",
    "\n",
    "$$H \\to ZZ$$\n",
    "\n",
    "$$Z \\to e^+e^- \\mbox{\\hspace{0.25 cm}or\\hspace{0.25 cm}} Z \\to \\mu^+\\mu^-$$"
   ]
  },
  {
   "cell_type": "markdown",
   "id": "671101ee-b487-4063-9c18-68dae1b56ed5",
   "metadata": {
    "editable": true,
    "slideshow": {
     "slide_type": ""
    },
    "tags": []
   },
   "source": [
    "<center>\n",
    "<img src=\"../img/higgs-to-four-leptons-diagram.png\" style=\"height: 400px\">\n",
    "</center>"
   ]
  },
  {
   "cell_type": "markdown",
   "id": "3de3ab60-0fe5-4154-aa23-3fcd3b39dfa0",
   "metadata": {
    "editable": true,
    "slideshow": {
     "slide_type": ""
    },
    "tags": []
   },
   "source": [
    "Our detectors can distinguish charge ($e^+$ versus $e^-$) and flavor ($e$ versus $\\mu$), but a collision event may have more electrons or muons than the ones that came from Higgs or Z decays. The challenge will be to iterate through these collections to reconstruct Higgs candidates without double-counting or under-counting."
   ]
  },
  {
   "cell_type": "markdown",
   "id": "6f90e80a-4723-4e54-b77f-3943c48f73c1",
   "metadata": {
    "editable": true,
    "slideshow": {
     "slide_type": ""
    },
    "tags": []
   },
   "source": [
    "## Getting data, building objects"
   ]
  },
  {
   "cell_type": "markdown",
   "id": "f907735a-a69e-4447-b2fa-eb5149eeaca0",
   "metadata": {
    "editable": true,
    "slideshow": {
     "slide_type": ""
    },
    "tags": []
   },
   "source": [
    "Since this is a new notebook, we need to import the packages we'll be using and load the data."
   ]
  },
  {
   "cell_type": "code",
   "execution_count": null,
   "id": "88e6bc5f-a42f-49a6-8a02-659da871d1b7",
   "metadata": {
    "editable": true,
    "slideshow": {
     "slide_type": ""
    },
    "tags": []
   },
   "outputs": [],
   "source": [
    "import json\n",
    "\n",
    "import numpy as np\n",
    "import vector\n",
    "\n",
    "dataset = json.load(open(\"../data/SMHiggsToZZTo4L.json\"))\n",
    "\n",
    "def to_vector(particle):\n",
    "    return vector.obj(\n",
    "        pt=particle[\"pt\"],\n",
    "        eta=particle[\"eta\"],\n",
    "        phi=particle[\"phi\"],\n",
    "        mass=particle[\"mass\"],\n",
    "    )"
   ]
  },
  {
   "cell_type": "markdown",
   "id": "d3738e12-2887-45b7-a0a9-09ca824f6f88",
   "metadata": {
    "editable": true,
    "slideshow": {
     "slide_type": ""
    },
    "tags": []
   },
   "source": [
    "Instead of separate classes for electrons and muons, let's make one class with a `flavor` attribute.\n",
    "\n",
    "This class also has an `__add__` method to enable `particle1 + particle2` and a `mass` property that computes the mass from its energy and momentum."
   ]
  },
  {
   "cell_type": "code",
   "execution_count": null,
   "id": "45dd9420-2f43-4934-81e7-2bade0f7cd93",
   "metadata": {
    "editable": true,
    "slideshow": {
     "slide_type": ""
    },
    "tags": []
   },
   "outputs": [],
   "source": [
    "class Particle:\n",
    "    def __init__(self, E, px, py, pz, charge, flavor):\n",
    "        self.E = E\n",
    "        self.px = px\n",
    "        self.py = py\n",
    "        self.pz = pz\n",
    "        self.charge = charge\n",
    "        self.flavor = flavor\n",
    "\n",
    "    def __repr__(self):\n",
    "        return f\"<{type(self).__name__} E={self.E} px={self.px} py={self.py} pz={self.pz} charge={self.charge} flavor={self.flavor!r}>\"\n",
    "\n",
    "    # the '__add__' method gives meaning to 'particle + particle'\n",
    "    def __add__(self, other):\n",
    "        return Particle(\n",
    "            self.E + other.E,\n",
    "            self.px + other.px,\n",
    "            self.py + other.py,\n",
    "            self.pz + other.pz,\n",
    "            self.charge + other.charge,\n",
    "            \"none\"\n",
    "            if self.charge + other.charge == 0\n",
    "            else f\"{self.flavor}-{other.flavor}\",\n",
    "        )\n",
    "\n",
    "    # '@property' means we can call this method without parentheses, as though it were an attribute\n",
    "    @property\n",
    "    def mass(self):\n",
    "        return vector.obj(E=self.E, px=self.px, py=self.py, pz=self.pz).mass"
   ]
  },
  {
   "cell_type": "code",
   "execution_count": null,
   "id": "27e663c7-6e9e-46f3-b568-169d458bf859",
   "metadata": {
    "editable": true,
    "slideshow": {
     "slide_type": ""
    },
    "tags": []
   },
   "outputs": [],
   "source": [
    "leptons = []  # a \"lepton\" is an electron or a muon, distinguished by its \"flavor\"\n",
    "\n",
    "event = dataset[96]  # a nice event with 3 electrons and 3 muons\n",
    "\n",
    "for particle in event[\"electron\"]:\n",
    "    v = to_vector(particle)\n",
    "    leptons.append(Particle(v.E, v.px, v.py, v.pz, particle[\"charge\"], \"electron\"))\n",
    "\n",
    "for particle in event[\"muon\"]:\n",
    "    v = to_vector(particle)\n",
    "    leptons.append(Particle(v.E, v.px, v.py, v.pz, particle[\"charge\"], \"muon\"))\n",
    "\n",
    "leptons"
   ]
  },
  {
   "cell_type": "markdown",
   "id": "de083e43-c0cd-4c5c-ad0d-e03a3b8b7dc3",
   "metadata": {
    "editable": true,
    "slideshow": {
     "slide_type": ""
    },
    "tags": []
   },
   "source": [
    "The `__add__` function lets us combine two particles to get what their parent `Particle` would be _if_ those particles come from the same decay."
   ]
  },
  {
   "cell_type": "code",
   "execution_count": null,
   "id": "f1b38f57-bc0c-4fca-947e-e759bfe345b1",
   "metadata": {
    "tags": []
   },
   "outputs": [],
   "source": [
    "z_boson = leptons[0] + leptons[2]\n",
    "z_boson"
   ]
  },
  {
   "cell_type": "code",
   "execution_count": null,
   "id": "096d700b-d322-4763-82c7-91d8c3c5fa62",
   "metadata": {
    "tags": []
   },
   "outputs": [],
   "source": [
    "z_boson.mass"
   ]
  },
  {
   "cell_type": "markdown",
   "id": "26a59ff5-19fb-417d-bbbb-c0ced4a19818",
   "metadata": {
    "editable": true,
    "slideshow": {
     "slide_type": ""
    },
    "tags": []
   },
   "source": [
    "In the following, we use `enumerate`:\n",
    "\n",
    "```python\n",
    "list(enumerate([\"a\", \"b\", \"c\"])) == [(0, \"a\"), (1, \"b\"), (2, \"c\")]\n",
    "```\n",
    "\n",
    "and `i < j` to ensure that if we include lepton pair $(i, j)$, we don't also include $(j, i)$."
   ]
  },
  {
   "cell_type": "code",
   "execution_count": null,
   "id": "ae33a254-6066-4628-9774-41acab52904e",
   "metadata": {
    "editable": true,
    "slideshow": {
     "slide_type": ""
    },
    "tags": []
   },
   "outputs": [],
   "source": [
    "z_candidates_step0 = []\n",
    "for i, lepton_i in enumerate(leptons):\n",
    "    for j, lepton_j in enumerate(leptons):\n",
    "        if i < j:\n",
    "            z_candidates_step0.append({\"index\": [i, j], \"Z boson\": lepton_i + lepton_j})"
   ]
  },
  {
   "cell_type": "markdown",
   "id": "c79cfb20-10d2-4823-8778-c187d85c0bda",
   "metadata": {
    "tags": []
   },
   "source": [
    "There are 15 lepton pairs in this event."
   ]
  },
  {
   "cell_type": "code",
   "execution_count": null,
   "id": "c18b47f0-5428-4a0b-a624-b329e6104fa6",
   "metadata": {
    "tags": []
   },
   "outputs": [],
   "source": [
    "z_candidates_step0"
   ]
  },
  {
   "cell_type": "markdown",
   "id": "24875b0d-37a6-4ccd-a90e-ba3ad73e01fe",
   "metadata": {
    "editable": true,
    "slideshow": {
     "slide_type": ""
    },
    "tags": []
   },
   "source": [
    "<br><br><br><br><br>"
   ]
  },
  {
   "cell_type": "markdown",
   "id": "10153a32-e5e6-47e3-bdfb-3c0c9e992b4a",
   "metadata": {
    "editable": true,
    "slideshow": {
     "slide_type": ""
    },
    "tags": []
   },
   "source": [
    "## Exercise part 1"
   ]
  },
  {
   "cell_type": "markdown",
   "id": "1761bb0e-b1e6-47bb-a8a0-7bce3f1288b2",
   "metadata": {
    "editable": true,
    "slideshow": {
     "slide_type": ""
    },
    "tags": []
   },
   "source": [
    "Z bosons always decay into particles of opposite charge and identical flavor. Reduce the set of candidates by excluding ones with the wrong properties.\n",
    "\n",
    "Replace the `if ...:` with an `if` statement that selects lepton pairs with the right properties."
   ]
  },
  {
   "cell_type": "code",
   "execution_count": null,
   "id": "ba4f8e58-7a22-4158-8728-4775ad741a39",
   "metadata": {
    "tags": []
   },
   "outputs": [],
   "source": [
    "z_candidates_step1 = []\n",
    "for candidate in z_candidates_step0:\n",
    "    i, j = candidate[\"index\"]\n",
    "    z_boson = candidate[\"Z boson\"]\n",
    "    if ...:\n",
    "        z_candidates_step1.append(candidate)"
   ]
  },
  {
   "cell_type": "markdown",
   "id": "26483612-83ea-45e5-bbfb-8ad07ed6a3ba",
   "metadata": {
    "tags": []
   },
   "source": [
    "The number of Z boson candidates you have left should be 8."
   ]
  },
  {
   "cell_type": "code",
   "execution_count": null,
   "id": "bb7a36ef-c718-48e6-9ae7-6f08909c4ca0",
   "metadata": {
    "tags": []
   },
   "outputs": [],
   "source": [
    "len(z_candidates_step1)"
   ]
  },
  {
   "cell_type": "markdown",
   "id": "24b07668-70a8-45e2-ae2a-4de03886ee0a",
   "metadata": {
    "tags": []
   },
   "source": [
    "Print the masses of these Z boson candidates. They should be\n",
    "\n",
    "| Z mass (GeV/$c^2$) |\n",
    "|-----------------:|\n",
    "| 94.65200565609616 |\n",
    "| 62.03397488944119 |\n",
    "|  3.41705043610203 |\n",
    "|  3.08773290949845 |\n",
    "| 45.69023328291948 |\n",
    "|  3.66225837801406 |\n",
    "| 26.45024522236556 |\n",
    "|  3.27373703909123 |"
   ]
  },
  {
   "cell_type": "markdown",
   "id": "71e07ff3-3b90-4c92-a2f9-15496c10fac9",
   "metadata": {
    "editable": true,
    "slideshow": {
     "slide_type": ""
    },
    "tags": []
   },
   "source": [
    "<br><br><br><br><br>"
   ]
  },
  {
   "cell_type": "markdown",
   "id": "c67d3d69-b4cd-4450-bfd5-6b9e9848c812",
   "metadata": {
    "editable": true,
    "slideshow": {
     "slide_type": ""
    },
    "tags": []
   },
   "source": [
    "## Exercise part 2"
   ]
  },
  {
   "cell_type": "markdown",
   "id": "10e6af0c-4b45-46af-8959-bfd424ea96a1",
   "metadata": {
    "editable": true,
    "slideshow": {
     "slide_type": ""
    },
    "tags": []
   },
   "source": [
    "The Higgs boson decays into two Z bosons. The only constraint here is that a lepton from one Z decay can't also be a lepton from the other Z decay.\n",
    "\n",
    "Replace the `if ...:` with an `if` statement that rejects double-counted indexes."
   ]
  },
  {
   "cell_type": "code",
   "execution_count": null,
   "id": "700ff164-a648-43df-93ab-4286ea2a0b7a",
   "metadata": {
    "editable": true,
    "slideshow": {
     "slide_type": ""
    },
    "tags": []
   },
   "outputs": [],
   "source": [
    "higgs_candidates_step1 = []\n",
    "\n",
    "for z_index1, z_candidate1 in enumerate(z_candidates_step1):\n",
    "    for z_index2, z_candidate2 in enumerate(z_candidates_step1):\n",
    "        if z_index1 < z_index2:\n",
    "            lepton_i1, lepton_j1 = z_candidate1[\"index\"]\n",
    "            lepton_i2, lepton_j2 = z_candidate2[\"index\"]\n",
    "            z_boson1 = z_candidate1[\"Z boson\"]\n",
    "            z_boson2 = z_candidate2[\"Z boson\"]\n",
    "\n",
    "            if ...:\n",
    "                higgs_candidates_step1.append(\n",
    "                    {\n",
    "                        \"index\": [lepton_i1, lepton_j1, lepton_i2, lepton_j2],\n",
    "                        \"H boson\": z_boson1 + z_boson2,\n",
    "                        \"Z bosons\": [z_boson1, z_boson2],\n",
    "                    }\n",
    "                )"
   ]
  },
  {
   "cell_type": "markdown",
   "id": "9b61fa96-18d4-434d-bd0c-576c02ebbe2d",
   "metadata": {
    "tags": []
   },
   "source": [
    "The number of Higgs candidates should be 12."
   ]
  },
  {
   "cell_type": "code",
   "execution_count": null,
   "id": "ae17909c-b0a4-4633-8c6e-222be177c731",
   "metadata": {
    "tags": []
   },
   "outputs": [],
   "source": [
    "len(higgs_candidates_step1)"
   ]
  },
  {
   "cell_type": "markdown",
   "id": "e46c005f-a83a-4ed9-92ae-9a50e6f82136",
   "metadata": {
    "tags": []
   },
   "source": [
    "That's still too many. Each of these events were simulated with exactly one Higgs boson.\n",
    "\n",
    "To see what the matter might be, print out the indexes and the masses of these candidates. It should be\n",
    "\n",
    "| index | H mass (GeV/$c^2$) |\n",
    "|:-----:|------------------:|\n",
    "| [0, 2, 1, 3] | 118.2598039063236 |\n",
    "| [0, 2, 3, 4] | 129.0346159691587 |\n",
    "| [0, 2, 3, 5] | 118.8311777089632 |\n",
    "| [0, 3, 1, 2] | 118.2598039063236 |\n",
    "| [0, 3, 2, 4] | 129.0346159691587 |\n",
    "| [0, 3, 2, 5] | 118.8311777089631 |\n",
    "| [1, 2, 3, 4] |  56.1098916972126 |\n",
    "| [1, 2, 3, 5] |  12.7507340718563 |\n",
    "| [1, 3, 2, 4] |  56.1098916972126 |\n",
    "| [1, 3, 2, 5] |  12.7507340718557 |\n",
    "| [2, 4, 3, 5] |  56.3856286987971 |\n",
    "| [2, 5, 3, 4] |  56.3856286987971 |"
   ]
  },
  {
   "cell_type": "markdown",
   "id": "b30c78d7-a4d8-4124-9242-b6221f2d5300",
   "metadata": {
    "tags": []
   },
   "source": [
    "Even though each candidate avoids double-counting within itself, the same combination of four indexes can be found among the candidates. We want only one of each.\n",
    "\n",
    "Let's collect these Higgs candidates by unique sets of indexes. The `sorted` function sorts a list, and `tuple` makes it possible to use them as keys in a dict."
   ]
  },
  {
   "cell_type": "code",
   "execution_count": null,
   "id": "cb020e6a-fc4e-42d3-a756-266e66c2aacc",
   "metadata": {
    "tags": []
   },
   "outputs": [],
   "source": [
    "higgs_candidates_step2 = {}\n",
    "\n",
    "for higgs_candidate in higgs_candidates_step1:\n",
    "    combination = tuple(sorted(higgs_candidate[\"index\"]))\n",
    "\n",
    "    if combination not in higgs_candidates_step2:\n",
    "        higgs_candidates_step2[combination] = []\n",
    "\n",
    "    higgs_candidates_step2[combination].append(higgs_candidate)"
   ]
  },
  {
   "cell_type": "markdown",
   "id": "b43ec255-4287-4e2d-9400-84bfdc215301",
   "metadata": {
    "tags": []
   },
   "source": [
    "This `higgs_candidates_step2` has deep structure:\n",
    "\n",
    "  * Keys are sets combinations of lepton indexes, without regard for their original order.\n",
    "  * Values are a list of decay trees.\n",
    "    - Each element of that list has a candidate Higgs mass and two candidate Z masses."
   ]
  },
  {
   "cell_type": "code",
   "execution_count": null,
   "id": "67780bb2-c8f8-4866-868f-caa8d4b930e6",
   "metadata": {
    "editable": true,
    "slideshow": {
     "slide_type": ""
    },
    "tags": []
   },
   "outputs": [],
   "source": [
    "for combination in higgs_candidates_step2:\n",
    "    print(combination)\n",
    "    for higgs_candidate in higgs_candidates_step2[combination]:\n",
    "        z_boson1, z_boson2 = higgs_candidate[\"Z bosons\"]\n",
    "        print(\n",
    "            \"    Higgs:\",\n",
    "            higgs_candidate[\"H boson\"].mass,\n",
    "            \"Z:\",\n",
    "            z_boson1.mass,\n",
    "            z_boson2.mass,\n",
    "        )"
   ]
  },
  {
   "cell_type": "markdown",
   "id": "2f06120c-afcf-4c54-a34d-8aaf4c781c0a",
   "metadata": {
    "editable": true,
    "slideshow": {
     "slide_type": ""
    },
    "tags": []
   },
   "source": [
    "<br><br><br><br><br>"
   ]
  },
  {
   "cell_type": "markdown",
   "id": "484ae788-99d0-4373-be10-b0fc65f4bcaa",
   "metadata": {
    "editable": true,
    "slideshow": {
     "slide_type": ""
    },
    "tags": []
   },
   "source": [
    "## Exercise part 3"
   ]
  },
  {
   "cell_type": "markdown",
   "id": "9316520c-235c-47a1-a92a-71f26b84559f",
   "metadata": {
    "editable": true,
    "slideshow": {
     "slide_type": ""
    },
    "tags": []
   },
   "source": [
    "One of the selections that the 2012 Higgs discovery analysis applied was:\n",
    "\n",
    "  * 12 GeV/$c^2$ < smallest Z mass < 120 GeV/$c^2$\n",
    "  * 40 GeV/$c^2$ < largest Z mass < 120 GeV/$c^2$\n",
    "\n",
    "because this is expected of real Higgs decays.\n",
    "\n",
    "Apply the Z mass constraint to these Higgs candidates."
   ]
  },
  {
   "cell_type": "code",
   "execution_count": null,
   "id": "8196a523-01f7-4e03-ba9a-4517693af53e",
   "metadata": {
    "tags": []
   },
   "outputs": [],
   "source": [
    "higgs_candidates_step3 = {}\n",
    "\n",
    "for combination in higgs_candidates_step2:\n",
    "    higgs_candidates_step3[combination] = []\n",
    "\n",
    "    for higgs_candidate in higgs_candidates_step2[combination]:\n",
    "        z_boson1, z_boson2 = higgs_candidate[\"Z bosons\"]\n",
    "        smallest_z_mass = ...\n",
    "        largest_z_mass = ...\n",
    "\n",
    "        if ...:\n",
    "            higgs_candidates_step3[combination].append(higgs_candidate)"
   ]
  },
  {
   "cell_type": "markdown",
   "id": "7ca06eec-b759-4bb6-8b25-a9b5cde4a041",
   "metadata": {
    "tags": []
   },
   "source": [
    "In the end,"
   ]
  },
  {
   "cell_type": "code",
   "execution_count": null,
   "id": "2a35f919-2a5f-4cfc-93a6-338563190e5c",
   "metadata": {
    "tags": []
   },
   "outputs": [],
   "source": [
    "for combination in higgs_candidates_step3:\n",
    "    print(combination)\n",
    "    for higgs_candidate in higgs_candidates_step3[combination]:\n",
    "        z_boson1, z_boson2 = higgs_candidate[\"Z bosons\"]\n",
    "        print(\n",
    "            \"    Higgs:\",\n",
    "            higgs_candidate[\"H boson\"].mass,\n",
    "            \"Z:\",\n",
    "            z_boson1.mass,\n",
    "            z_boson2.mass,\n",
    "        )"
   ]
  },
  {
   "cell_type": "markdown",
   "id": "445c8895-d5b3-4bd7-b1ec-06589c9ccfca",
   "metadata": {
    "editable": true,
    "slideshow": {
     "slide_type": ""
    },
    "tags": []
   },
   "source": [
    "should be\n",
    "\n",
    "```\n",
    "(0, 1, 2, 3)\n",
    "(0, 2, 3, 4)\n",
    "    Higgs: 129.03461596915875 Z: 94.65200565609616 26.45024522236556\n",
    "    Higgs: 129.03461596915875 Z: 62.03397488944119 45.69023328291948\n",
    "(0, 2, 3, 5)\n",
    "(1, 2, 3, 4)\n",
    "(1, 2, 3, 5)\n",
    "(2, 3, 4, 5)\n",
    "```\n",
    "\n",
    "In other words, there's only one combination of 4 leptons for this event, but that one Higgs might be divided up among Z bosons in two different ways."
   ]
  },
  {
   "cell_type": "markdown",
   "id": "751ace3b-39a1-4e51-87a0-f3f1d3fd8899",
   "metadata": {
    "editable": true,
    "slideshow": {
     "slide_type": ""
    },
    "tags": []
   },
   "source": [
    "<br><br><br>"
   ]
  },
  {
   "cell_type": "markdown",
   "id": "dffce465-7ee6-49b9-80fc-5cdd8ac65f0c",
   "metadata": {
    "editable": true,
    "slideshow": {
     "slide_type": ""
    },
    "tags": []
   },
   "source": [
    "This aspect of particle physics—the fact that observed particles can be associated with a decay tree in multiple ways—is known as \"combinatorics.\"\n",
    "\n",
    "<br>\n",
    "\n",
    "Complex, nested data structures and combinatorics are essential aspects of particle physics analysis."
   ]
  }
 ],
 "metadata": {
  "kernelspec": {
   "display_name": "Python 3 (ipykernel)",
   "language": "python",
   "name": "python3"
  },
  "language_info": {
   "codemirror_mode": {
    "name": "ipython",
    "version": 3
   },
   "file_extension": ".py",
   "mimetype": "text/x-python",
   "name": "python",
   "nbconvert_exporter": "python",
   "pygments_lexer": "ipython3",
   "version": "3.10.13"
  }
 },
 "nbformat": 4,
 "nbformat_minor": 5
}
