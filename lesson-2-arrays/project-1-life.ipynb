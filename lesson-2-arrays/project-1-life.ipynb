{
 "cells": [
  {
   "cell_type": "markdown",
   "id": "95297315-9a1d-4176-86d8-84c9e6d3fd33",
   "metadata": {},
   "source": [
    "# Lesson 2 project 1: Game of Life"
   ]
  }
 ],
 "metadata": {
  "kernelspec": {
   "display_name": "Python 3 (ipykernel)",
   "language": "python",
   "name": "python3"
  },
  "language_info": {
   "codemirror_mode": {
    "name": "ipython",
    "version": 3
   },
   "file_extension": ".py",
   "mimetype": "text/x-python",
   "name": "python",
   "nbconvert_exporter": "python",
   "pygments_lexer": "ipython3",
   "version": "3.10.13"
  }
 },
 "nbformat": 4,
 "nbformat_minor": 5
}
