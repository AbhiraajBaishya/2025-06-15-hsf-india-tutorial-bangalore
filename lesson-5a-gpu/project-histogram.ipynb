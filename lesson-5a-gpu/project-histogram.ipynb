{
 "cells": [
  {
   "cell_type": "markdown",
   "id": "e555a0f3-91f4-4601-a04c-6d243f953641",
   "metadata": {},
   "source": [
    "# Lesson 5a project: Filling histograms on a GPU"
   ]
  }
 ],
 "metadata": {
  "kernelspec": {
   "display_name": "Python 3 (ipykernel)",
   "language": "python",
   "name": "python3"
  },
  "language_info": {
   "codemirror_mode": {
    "name": "ipython",
    "version": 3
   },
   "file_extension": ".py",
   "mimetype": "text/x-python",
   "name": "python",
   "nbconvert_exporter": "python",
   "pygments_lexer": "ipython3",
   "version": "3.10.13"
  }
 },
 "nbformat": 4,
 "nbformat_minor": 5
}
