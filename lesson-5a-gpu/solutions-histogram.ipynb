{
 "cells": [
  {
   "cell_type": "markdown",
   "id": "e4aabce9-eeb8-40e7-85b3-5287ba88afe1",
   "metadata": {
    "editable": true,
    "slideshow": {
     "slide_type": ""
    },
    "tags": []
   },
   "source": [
    "# Lesson 5a solutions: Filling histograms on a GPU"
   ]
  },
  {
   "cell_type": "code",
   "execution_count": 1,
   "id": "40aa35b7-ece5-4210-b538-c2e43f649e4a",
   "metadata": {
    "editable": true,
    "slideshow": {
     "slide_type": ""
    },
    "tags": []
   },
   "outputs": [],
   "source": [
    "import math\n",
    "\n",
    "import matplotlib.pyplot as plt\n",
    "import numpy as np\n",
    "import cupy as cp\n",
    "import numba.cuda\n",
    "import numba as nb\n",
    "import uproot\n",
    "import awkward as ak\n",
    "from hist import Hist\n",
    "ak.numba.register_and_check()"
   ]
  },
  {
   "cell_type": "code",
   "execution_count": 2,
   "id": "3e636fe7-c1cf-44b3-8ce9-f8dcda93521b",
   "metadata": {
    "editable": true,
    "slideshow": {
     "slide_type": ""
    },
    "tags": []
   },
   "outputs": [
    {
     "data": {
      "text/plain": [
       "array([96.08437   , -1.        , 18.25135   , ..., 21.76483   ,\n",
       "        0.6888827 ,  0.11970807], dtype=float32)"
      ]
     },
     "execution_count": 2,
     "metadata": {},
     "output_type": "execute_result"
    }
   ],
   "source": [
    "with uproot.open(\"../data/dimuon_mass.root:tree/mass\") as branch:\n",
    "    mass = cp.asarray(branch.array(library=\"np\"))\n",
    "\n",
    "mass"
   ]
  },
  {
   "cell_type": "code",
   "execution_count": 3,
   "id": "673e65ed-35cb-4743-a620-73baf743173f",
   "metadata": {
    "editable": true,
    "slideshow": {
     "slide_type": ""
    },
    "tags": []
   },
   "outputs": [
    {
     "data": {
      "text/plain": [
       "cupy.ndarray"
      ]
     },
     "execution_count": 3,
     "metadata": {},
     "output_type": "execute_result"
    }
   ],
   "source": [
    "type(mass)"
   ]
  },
  {
   "cell_type": "code",
   "execution_count": 4,
   "id": "3a4db9e6-4dfd-4e3a-9957-65098248767f",
   "metadata": {
    "editable": true,
    "slideshow": {
     "slide_type": ""
    },
    "tags": []
   },
   "outputs": [],
   "source": [
    "@nb.cuda.jit(device=True)\n",
    "def bin_index(x):\n",
    "    if x < 0:\n",
    "        return 0\n",
    "    elif x >= 120:\n",
    "        return 1199\n",
    "    else:\n",
    "        return x * 10"
   ]
  },
  {
   "cell_type": "markdown",
   "id": "bde38626-a79f-4827-9220-839caa85e62e",
   "metadata": {
    "editable": true,
    "slideshow": {
     "slide_type": ""
    },
    "tags": []
   },
   "source": [
    "<br><br><br><br><br>"
   ]
  },
  {
   "cell_type": "markdown",
   "id": "bb35d8b6-8532-489e-bced-642f5a924790",
   "metadata": {
    "editable": true,
    "slideshow": {
     "slide_type": ""
    },
    "tags": []
   },
   "source": [
    "## Solutions to exercise 1"
   ]
  },
  {
   "cell_type": "markdown",
   "id": "2130d013-6d71-4ff9-94f9-df29c5891660",
   "metadata": {
    "editable": true,
    "slideshow": {
     "slide_type": ""
    },
    "tags": []
   },
   "source": [
    "It won't be possible to fill this histogram using the method of filling thread-local copies concurrently and then adding up the results, because\n",
    "\n",
    "* the histogram has 1200 bins\n",
    "* the tasks that run concurrently are the CUDA threads, and there must be 10 million of them to process an input with 10 million elements.\n",
    "\n",
    "Although most GPUs run fewer than 10 million threads at one time, they provision threads as though they would run at the same time ([concurrent, not necessarily parallel](https://jenkov.com/tutorials/java-concurrency/concurrency-vs-parallelism.html)). The threads might run in any order, so they each need their own copy of the histogram.\n",
    "\n",
    "1200 bins × 10 million copies = 12 billion bins = 48 gigabytes of memory, which our GPU does not have.\n",
    "\n",
    "Anyway, even if we did that, each thread would only fill one bin of its histogram, so most of the work of accumulating bin values would be in adding up the results—the post-processing step would be most of the processing.\n",
    "\n",
    "Here is how it would be implemented. The following code will not run."
   ]
  },
  {
   "cell_type": "code",
   "execution_count": 5,
   "id": "be6f19cd-520b-4bcf-bea4-c6dad2e2e9c4",
   "metadata": {
    "editable": true,
    "slideshow": {
     "slide_type": ""
    },
    "tags": [
     "raises-exception"
    ]
   },
   "outputs": [
    {
     "ename": "OutOfMemoryError",
     "evalue": "Out of memory allocating 48,000,000,000 bytes (allocated so far: 40,000,000 bytes).",
     "output_type": "error",
     "traceback": [
      "\u001b[0;31m---------------------------------------------------------------------------\u001b[0m",
      "\u001b[0;31mOutOfMemoryError\u001b[0m                          Traceback (most recent call last)",
      "Cell \u001b[0;32mIn[5], line 11\u001b[0m\n\u001b[1;32m      8\u001b[0m num_threads \u001b[38;5;241m=\u001b[39m \u001b[38;5;241m1024\u001b[39m\n\u001b[1;32m      9\u001b[0m num_blocks \u001b[38;5;241m=\u001b[39m \u001b[38;5;28mint\u001b[39m(np\u001b[38;5;241m.\u001b[39mceil(\u001b[38;5;28mlen\u001b[39m(mass) \u001b[38;5;241m/\u001b[39m \u001b[38;5;241m1024\u001b[39m))\n\u001b[0;32m---> 11\u001b[0m all_histograms \u001b[38;5;241m=\u001b[39m \u001b[43mcp\u001b[49m\u001b[38;5;241;43m.\u001b[39;49m\u001b[43mzeros\u001b[49m\u001b[43m(\u001b[49m\u001b[43m(\u001b[49m\u001b[38;5;241;43m10000000\u001b[39;49m\u001b[43m,\u001b[49m\u001b[43m \u001b[49m\u001b[38;5;241;43m1200\u001b[39;49m\u001b[43m)\u001b[49m\u001b[43m,\u001b[49m\u001b[43m \u001b[49m\u001b[43mdtype\u001b[49m\u001b[38;5;241;43m=\u001b[39;49m\u001b[43mnp\u001b[49m\u001b[38;5;241;43m.\u001b[39;49m\u001b[43muint32\u001b[49m\u001b[43m)\u001b[49m\n\u001b[1;32m     13\u001b[0m fill_histogram[num_blocks, num_threads](all_histograms, mass)\n\u001b[1;32m     15\u001b[0m bin_values \u001b[38;5;241m=\u001b[39m cp\u001b[38;5;241m.\u001b[39msum(all_histograms, axis\u001b[38;5;241m=\u001b[39m\u001b[38;5;241m0\u001b[39m)\n",
      "File \u001b[0;32m~/mambaforge/lib/python3.10/site-packages/cupy/_creation/basic.py:211\u001b[0m, in \u001b[0;36mzeros\u001b[0;34m(shape, dtype, order)\u001b[0m\n\u001b[1;32m    196\u001b[0m \u001b[38;5;28;01mdef\u001b[39;00m \u001b[38;5;21mzeros\u001b[39m(shape, dtype\u001b[38;5;241m=\u001b[39m\u001b[38;5;28mfloat\u001b[39m, order\u001b[38;5;241m=\u001b[39m\u001b[38;5;124m'\u001b[39m\u001b[38;5;124mC\u001b[39m\u001b[38;5;124m'\u001b[39m):\n\u001b[1;32m    197\u001b[0m \u001b[38;5;250m    \u001b[39m\u001b[38;5;124;03m\"\"\"Returns a new array of given shape and dtype, filled with zeros.\u001b[39;00m\n\u001b[1;32m    198\u001b[0m \n\u001b[1;32m    199\u001b[0m \u001b[38;5;124;03m    Args:\u001b[39;00m\n\u001b[0;32m   (...)\u001b[0m\n\u001b[1;32m    209\u001b[0m \n\u001b[1;32m    210\u001b[0m \u001b[38;5;124;03m    \"\"\"\u001b[39;00m\n\u001b[0;32m--> 211\u001b[0m     a \u001b[38;5;241m=\u001b[39m \u001b[43mcupy\u001b[49m\u001b[38;5;241;43m.\u001b[39;49m\u001b[43mndarray\u001b[49m\u001b[43m(\u001b[49m\u001b[43mshape\u001b[49m\u001b[43m,\u001b[49m\u001b[43m \u001b[49m\u001b[43mdtype\u001b[49m\u001b[43m,\u001b[49m\u001b[43m \u001b[49m\u001b[43morder\u001b[49m\u001b[38;5;241;43m=\u001b[39;49m\u001b[43morder\u001b[49m\u001b[43m)\u001b[49m\n\u001b[1;32m    212\u001b[0m     a\u001b[38;5;241m.\u001b[39mdata\u001b[38;5;241m.\u001b[39mmemset_async(\u001b[38;5;241m0\u001b[39m, a\u001b[38;5;241m.\u001b[39mnbytes)\n\u001b[1;32m    213\u001b[0m     \u001b[38;5;28;01mreturn\u001b[39;00m a\n",
      "File \u001b[0;32mcupy/_core/core.pyx:132\u001b[0m, in \u001b[0;36mcupy._core.core.ndarray.__new__\u001b[0;34m()\u001b[0m\n",
      "File \u001b[0;32mcupy/_core/core.pyx:220\u001b[0m, in \u001b[0;36mcupy._core.core._ndarray_base._init\u001b[0;34m()\u001b[0m\n",
      "File \u001b[0;32mcupy/cuda/memory.pyx:740\u001b[0m, in \u001b[0;36mcupy.cuda.memory.alloc\u001b[0;34m()\u001b[0m\n",
      "File \u001b[0;32mcupy/cuda/memory.pyx:1426\u001b[0m, in \u001b[0;36mcupy.cuda.memory.MemoryPool.malloc\u001b[0;34m()\u001b[0m\n",
      "File \u001b[0;32mcupy/cuda/memory.pyx:1447\u001b[0m, in \u001b[0;36mcupy.cuda.memory.MemoryPool.malloc\u001b[0;34m()\u001b[0m\n",
      "File \u001b[0;32mcupy/cuda/memory.pyx:1118\u001b[0m, in \u001b[0;36mcupy.cuda.memory.SingleDeviceMemoryPool.malloc\u001b[0;34m()\u001b[0m\n",
      "File \u001b[0;32mcupy/cuda/memory.pyx:1139\u001b[0m, in \u001b[0;36mcupy.cuda.memory.SingleDeviceMemoryPool._malloc\u001b[0;34m()\u001b[0m\n",
      "File \u001b[0;32mcupy/cuda/memory.pyx:1384\u001b[0m, in \u001b[0;36mcupy.cuda.memory.SingleDeviceMemoryPool._try_malloc\u001b[0;34m()\u001b[0m\n",
      "File \u001b[0;32mcupy/cuda/memory.pyx:1387\u001b[0m, in \u001b[0;36mcupy.cuda.memory.SingleDeviceMemoryPool._try_malloc\u001b[0;34m()\u001b[0m\n",
      "\u001b[0;31mOutOfMemoryError\u001b[0m: Out of memory allocating 48,000,000,000 bytes (allocated so far: 40,000,000 bytes)."
     ]
    }
   ],
   "source": [
    "@nb.cuda.jit\n",
    "def fill_histogram(all_histograms, mass):\n",
    "    thread_idx = nb.cuda.grid(1)\n",
    "    if thread_idx < len(mass):\n",
    "        my_bin_values = all_histograms[thread_idx]\n",
    "        my_bin_values[bin_index(mass[thread_idx])] += 1\n",
    "\n",
    "num_threads = 1024\n",
    "num_blocks = int(np.ceil(len(mass) / 1024))\n",
    "\n",
    "all_histograms = cp.zeros((10000000, 1200), dtype=np.uint32)\n",
    "\n",
    "fill_histogram[num_blocks, num_threads](all_histograms, mass)\n",
    "\n",
    "bin_values = cp.sum(all_histograms, axis=0)"
   ]
  },
  {
   "cell_type": "markdown",
   "id": "d162f32e-1f89-413a-86c9-209f7027c687",
   "metadata": {
    "editable": true,
    "slideshow": {
     "slide_type": ""
    },
    "tags": []
   },
   "source": [
    "<br><br><br><br><br>"
   ]
  },
  {
   "cell_type": "markdown",
   "id": "832f4541-fb41-44e1-9cfa-731b00e70d89",
   "metadata": {
    "editable": true,
    "slideshow": {
     "slide_type": ""
    },
    "tags": []
   },
   "source": [
    "## Solutions to exercise 2"
   ]
  },
  {
   "cell_type": "markdown",
   "id": "d8938f04-6389-4f83-bdaf-a3f355c12e0f",
   "metadata": {
    "editable": true,
    "slideshow": {
     "slide_type": ""
    },
    "tags": []
   },
   "source": [
    "This is an example of a problem that atomics are good for.\n",
    "\n",
    "In the lectures, I showed you a problem that they're not good for: adding up all values in an array, to get a single, scalar result. That was bad because every thread was trying to write to the same (single) value, and all but one had to wait their turn.\n",
    "\n",
    "This is a good problem for atomics because each thread is likely filling a different `bin_values` element. The \"contention\" is low (not zero).\n",
    "\n",
    "You could solve this problem with `nb.cuda.atomic.inc` (increment) or `nb.cuda.atomic.add` (addition); the first requires `bin_values` to be unsigned and the second requires `bin_values` to be signed, so you have to choose an operation and a `dtype` together.\n",
    "\n",
    "Using `nb.cuda.atomic.inc` (with `-1` as the \"reset value\" because we don't want it to ever reset to zero),"
   ]
  },
  {
   "cell_type": "code",
   "execution_count": 6,
   "id": "e8478859-bcbc-4f58-b8d0-e104dc9f64ea",
   "metadata": {
    "editable": true,
    "slideshow": {
     "slide_type": ""
    },
    "tags": []
   },
   "outputs": [],
   "source": [
    "@nb.cuda.jit\n",
    "def fill_histogram(bin_values, mass):\n",
    "    thread_idx = nb.cuda.grid(1)\n",
    "    if thread_idx < len(mass):\n",
    "        nb.cuda.atomic.inc(bin_values, bin_index(mass[thread_idx]), -1)\n",
    "\n",
    "num_threads = 1024\n",
    "num_blocks = int(np.ceil(len(mass) / 1024))\n",
    "\n",
    "bin_values = cp.zeros(1200, dtype=np.uint32)\n",
    "fill_histogram[num_blocks, num_threads](bin_values, mass)"
   ]
  },
  {
   "cell_type": "code",
   "execution_count": 7,
   "id": "fbc3ae46-7a3d-4250-80bf-9717d660e666",
   "metadata": {
    "editable": true,
    "slideshow": {
     "slide_type": ""
    },
    "tags": []
   },
   "outputs": [
    {
     "data": {
      "image/png": "[encoded data removed]",
      "text/plain": [
       "<Figure size 700x500 with 1 Axes>"
      ]
     },
     "metadata": {},
     "output_type": "display_data"
    }
   ],
   "source": [
    "h = Hist.new.Reg(1200, 0, 120, label=\"mass\").Double()\n",
    "h.values()[:] = bin_values.get()\n",
    "\n",
    "fig, ax = plt.subplots(figsize=(7, 5))\n",
    "h.plot(ax=ax)\n",
    "ax.set_xlim(0, 120)\n",
    "ax.set_yscale(\"log\");"
   ]
  },
  {
   "cell_type": "markdown",
   "id": "e872913a-d9df-4187-acb2-2de4995db36a",
   "metadata": {
    "editable": true,
    "slideshow": {
     "slide_type": ""
    },
    "tags": []
   },
   "source": [
    "Using `nb.cuda.atomic.add`,"
   ]
  },
  {
   "cell_type": "code",
   "execution_count": 8,
   "id": "9e5533b5-3f03-44d2-bb59-3b4012c1c425",
   "metadata": {
    "editable": true,
    "slideshow": {
     "slide_type": ""
    },
    "tags": []
   },
   "outputs": [],
   "source": [
    "@nb.cuda.jit\n",
    "def fill_histogram(bin_values, mass):\n",
    "    thread_idx = nb.cuda.grid(1)\n",
    "    if thread_idx < len(mass):\n",
    "        nb.cuda.atomic.add(bin_values, bin_index(mass[thread_idx]), 1)\n",
    "\n",
    "num_threads = 1024\n",
    "num_blocks = int(np.ceil(len(mass) / 1024))\n",
    "\n",
    "bin_values = cp.zeros(1200, dtype=np.int32)\n",
    "fill_histogram[num_blocks, num_threads](bin_values, mass)"
   ]
  },
  {
   "cell_type": "code",
   "execution_count": 9,
   "id": "fbced6bf-771a-47e4-b261-66dfff3c76cb",
   "metadata": {
    "editable": true,
    "slideshow": {
     "slide_type": ""
    },
    "tags": []
   },
   "outputs": [
    {
     "data": {
      "image/png": "[encoded data removed]",
      "text/plain": [
       "<Figure size 700x500 with 1 Axes>"
      ]
     },
     "metadata": {},
     "output_type": "display_data"
    }
   ],
   "source": [
    "h = Hist.new.Reg(1200, 0, 120, label=\"mass\").Double()\n",
    "h.values()[:] = bin_values.get()\n",
    "\n",
    "fig, ax = plt.subplots(figsize=(7, 5))\n",
    "h.plot(ax=ax)\n",
    "ax.set_xlim(0, 120)\n",
    "ax.set_yscale(\"log\");"
   ]
  },
  {
   "cell_type": "markdown",
   "id": "3f14b7b3-f7f1-47d2-a9ba-8ed72438ac48",
   "metadata": {
    "editable": true,
    "slideshow": {
     "slide_type": ""
    },
    "tags": []
   },
   "source": [
    "<br><br><br><br><br>"
   ]
  },
  {
   "cell_type": "markdown",
   "id": "fc74aca0-0ea7-4bfb-957f-b703c903952b",
   "metadata": {
    "editable": true,
    "slideshow": {
     "slide_type": ""
    },
    "tags": []
   },
   "source": [
    "With atomics, the histogram-filling is faster if there are _more_ bins, and if the statistical distribution is _broader_.\n",
    "\n",
    "If there are _fewer_ bins, or the statistical distribution is _narrower_, then threads would more often be trying to write to the same `bin_values` element, and they would have to wait. To see this, let's make a histogram-filling process that scales the number of bins.\n",
    "\n",
    "(This implementation, intended only for timing studies, doesn't fill the array correctly, so I'll use an array called `scratch_space` instead of `histogram`.)"
   ]
  },
  {
   "cell_type": "code",
   "execution_count": 10,
   "id": "5429c3e1-16c3-4ff5-8a3b-124cee15438e",
   "metadata": {
    "editable": true,
    "slideshow": {
     "slide_type": ""
    },
    "tags": []
   },
   "outputs": [],
   "source": [
    "@nb.cuda.jit(device=True)\n",
    "def bin_index_atomic_varbins(num_bins, x):\n",
    "    return np.uint32(num_bins * x / 120)\n",
    "\n",
    "@nb.cuda.jit(device=True)\n",
    "def fill_histogram_atomic_varbins(histogram, num_bins, x):\n",
    "    if 0 <= x < 120:\n",
    "        nb.cuda.atomic.inc(histogram, bin_index_atomic_varbins(num_bins, x), -1)\n",
    "\n",
    "@nb.cuda.jit\n",
    "def from_precomputed_histogram_atomic_varbins(mass, histogram, num_bins):\n",
    "    thread_idx = nb.cuda.grid(1)\n",
    "    if thread_idx < len(mass):\n",
    "        fill_histogram_atomic_varbins(histogram, num_bins, mass[thread_idx])\n",
    "\n",
    "scratch_space = cp.empty(1200, np.uint32)\n",
    "\n",
    "from_precomputed_histogram_atomic_varbins[num_blocks, num_threads](mass, scratch_space, 1200)"
   ]
  },
  {
   "cell_type": "markdown",
   "id": "2e5c8846-c9b8-4ef2-aac8-cd6571fa4986",
   "metadata": {},
   "source": [
    "Now we can measure the time as we reduce the number of bins from 1200 down to 1."
   ]
  },
  {
   "cell_type": "code",
   "execution_count": 11,
   "id": "9ad59d25-8c21-40a7-8f46-1348474dfa9f",
   "metadata": {},
   "outputs": [],
   "source": [
    "number_of_bins = []\n",
    "execution_time = []"
   ]
  },
  {
   "cell_type": "code",
   "execution_count": 12,
   "id": "17329daa-dfe2-4205-af42-5f41d410d19e",
   "metadata": {},
   "outputs": [
    {
     "name": "stdout",
     "output_type": "stream",
     "text": [
      "1.73 ms ± 5.2 µs per loop (mean ± std. dev. of 7 runs, 1,000 loops each)\n"
     ]
    },
    {
     "data": {
      "text/plain": [
       "<TimeitResult : 1.73 ms ± 5.2 µs per loop (mean ± std. dev. of 7 runs, 1,000 loops each)>"
      ]
     },
     "execution_count": 12,
     "metadata": {},
     "output_type": "execute_result"
    }
   ],
   "source": [
    "%%timeit -o\n",
    "from_precomputed_histogram_atomic_varbins[num_blocks, num_threads](mass, scratch_space, 1200)"
   ]
  },
  {
   "cell_type": "code",
   "execution_count": 13,
   "id": "72380e49-6bf0-48f9-b543-aec1afad8a10",
   "metadata": {},
   "outputs": [],
   "source": [
    "number_of_bins.append(1200)\n",
    "execution_time.append(np.mean(_.all_runs) / _.loops)"
   ]
  },
  {
   "cell_type": "code",
   "execution_count": 14,
   "id": "1a857ef0-fd0b-4436-b8da-eb17cad8518a",
   "metadata": {
    "editable": true,
    "slideshow": {
     "slide_type": ""
    },
    "tags": []
   },
   "outputs": [
    {
     "name": "stdout",
     "output_type": "stream",
     "text": [
      "2.12 ms ± 1.8 µs per loop (mean ± std. dev. of 7 runs, 100 loops each)\n"
     ]
    },
    {
     "data": {
      "text/plain": [
       "<TimeitResult : 2.12 ms ± 1.8 µs per loop (mean ± std. dev. of 7 runs, 100 loops each)>"
      ]
     },
     "execution_count": 14,
     "metadata": {},
     "output_type": "execute_result"
    }
   ],
   "source": [
    "%%timeit -o\n",
    "from_precomputed_histogram_atomic_varbins[num_blocks, num_threads](mass, scratch_space, 800)"
   ]
  },
  {
   "cell_type": "code",
   "execution_count": 15,
   "id": "1fdf67af-142b-471e-8db8-2af39ade192b",
   "metadata": {
    "editable": true,
    "slideshow": {
     "slide_type": ""
    },
    "tags": []
   },
   "outputs": [],
   "source": [
    "number_of_bins.append(800)\n",
    "execution_time.append(np.mean(_.all_runs) / _.loops)"
   ]
  },
  {
   "cell_type": "code",
   "execution_count": 16,
   "id": "4c11d400-609b-4229-9584-02fd67ec31fc",
   "metadata": {
    "editable": true,
    "slideshow": {
     "slide_type": ""
    },
    "tags": []
   },
   "outputs": [
    {
     "name": "stdout",
     "output_type": "stream",
     "text": [
      "2.24 ms ± 3.9 µs per loop (mean ± std. dev. of 7 runs, 100 loops each)\n"
     ]
    },
    {
     "data": {
      "text/plain": [
       "<TimeitResult : 2.24 ms ± 3.9 µs per loop (mean ± std. dev. of 7 runs, 100 loops each)>"
      ]
     },
     "execution_count": 16,
     "metadata": {},
     "output_type": "execute_result"
    }
   ],
   "source": [
    "%%timeit -o\n",
    "from_precomputed_histogram_atomic_varbins[num_blocks, num_threads](mass, scratch_space, 600)"
   ]
  },
  {
   "cell_type": "code",
   "execution_count": 17,
   "id": "86160304-302b-4f27-8071-f143b5125568",
   "metadata": {
    "editable": true,
    "slideshow": {
     "slide_type": ""
    },
    "tags": []
   },
   "outputs": [],
   "source": [
    "number_of_bins.append(600)\n",
    "execution_time.append(np.mean(_.all_runs) / _.loops)"
   ]
  },
  {
   "cell_type": "code",
   "execution_count": 18,
   "id": "54755098-080e-4bc5-bc64-b2ccb6c79428",
   "metadata": {
    "editable": true,
    "slideshow": {
     "slide_type": ""
    },
    "tags": []
   },
   "outputs": [
    {
     "name": "stdout",
     "output_type": "stream",
     "text": [
      "2.17 ms ± 2.19 µs per loop (mean ± std. dev. of 7 runs, 100 loops each)\n"
     ]
    },
    {
     "data": {
      "text/plain": [
       "<TimeitResult : 2.17 ms ± 2.19 µs per loop (mean ± std. dev. of 7 runs, 100 loops each)>"
      ]
     },
     "execution_count": 18,
     "metadata": {},
     "output_type": "execute_result"
    }
   ],
   "source": [
    "%%timeit -o\n",
    "from_precomputed_histogram_atomic_varbins[num_blocks, num_threads](mass, scratch_space, 400)"
   ]
  },
  {
   "cell_type": "code",
   "execution_count": 19,
   "id": "68bc1828-be4f-46a5-8187-6199ef706320",
   "metadata": {
    "editable": true,
    "slideshow": {
     "slide_type": ""
    },
    "tags": []
   },
   "outputs": [],
   "source": [
    "number_of_bins.append(400)\n",
    "execution_time.append(np.mean(_.all_runs) / _.loops)"
   ]
  },
  {
   "cell_type": "code",
   "execution_count": 20,
   "id": "8b728dee-fb23-4735-8d3d-01dd4c186bb1",
   "metadata": {
    "editable": true,
    "slideshow": {
     "slide_type": ""
    },
    "tags": []
   },
   "outputs": [
    {
     "name": "stdout",
     "output_type": "stream",
     "text": [
      "2.12 ms ± 7.59 µs per loop (mean ± std. dev. of 7 runs, 100 loops each)\n"
     ]
    },
    {
     "data": {
      "text/plain": [
       "<TimeitResult : 2.12 ms ± 7.59 µs per loop (mean ± std. dev. of 7 runs, 100 loops each)>"
      ]
     },
     "execution_count": 20,
     "metadata": {},
     "output_type": "execute_result"
    }
   ],
   "source": [
    "%%timeit -o\n",
    "from_precomputed_histogram_atomic_varbins[num_blocks, num_threads](mass, scratch_space, 300)"
   ]
  },
  {
   "cell_type": "code",
   "execution_count": 21,
   "id": "c8000e23-da1c-4881-83fc-62902eac3d5b",
   "metadata": {},
   "outputs": [],
   "source": [
    "number_of_bins.append(300)\n",
    "execution_time.append(np.mean(_.all_runs) / _.loops)"
   ]
  },
  {
   "cell_type": "code",
   "execution_count": 22,
   "id": "f9888ae0-dfc5-4561-9cd8-ba9a5abb5c56",
   "metadata": {},
   "outputs": [
    {
     "name": "stdout",
     "output_type": "stream",
     "text": [
      "2.33 ms ± 38.4 µs per loop (mean ± std. dev. of 7 runs, 100 loops each)\n"
     ]
    },
    {
     "data": {
      "text/plain": [
       "<TimeitResult : 2.33 ms ± 38.4 µs per loop (mean ± std. dev. of 7 runs, 100 loops each)>"
      ]
     },
     "execution_count": 22,
     "metadata": {},
     "output_type": "execute_result"
    }
   ],
   "source": [
    "%%timeit -o\n",
    "from_precomputed_histogram_atomic_varbins[num_blocks, num_threads](mass, scratch_space, 150)"
   ]
  },
  {
   "cell_type": "code",
   "execution_count": 23,
   "id": "6adefb59-de5a-4ebc-8136-b82a214d67c5",
   "metadata": {},
   "outputs": [],
   "source": [
    "number_of_bins.append(150)\n",
    "execution_time.append(np.mean(_.all_runs) / _.loops)"
   ]
  },
  {
   "cell_type": "code",
   "execution_count": 24,
   "id": "7451ccdf-ece0-40d2-961b-3b1b901538c5",
   "metadata": {},
   "outputs": [
    {
     "name": "stdout",
     "output_type": "stream",
     "text": [
      "2.75 ms ± 2.13 µs per loop (mean ± std. dev. of 7 runs, 100 loops each)\n"
     ]
    },
    {
     "data": {
      "text/plain": [
       "<TimeitResult : 2.75 ms ± 2.13 µs per loop (mean ± std. dev. of 7 runs, 100 loops each)>"
      ]
     },
     "execution_count": 24,
     "metadata": {},
     "output_type": "execute_result"
    }
   ],
   "source": [
    "%%timeit -o\n",
    "from_precomputed_histogram_atomic_varbins[num_blocks, num_threads](mass, scratch_space, 75)"
   ]
  },
  {
   "cell_type": "code",
   "execution_count": 25,
   "id": "ce429697-92d3-416b-b8b6-19cfd95104e6",
   "metadata": {},
   "outputs": [],
   "source": [
    "number_of_bins.append(75)\n",
    "execution_time.append(np.mean(_.all_runs) / _.loops)"
   ]
  },
  {
   "cell_type": "code",
   "execution_count": 26,
   "id": "3dc6433a-a7fd-47d0-a152-3c20a118d534",
   "metadata": {},
   "outputs": [
    {
     "name": "stdout",
     "output_type": "stream",
     "text": [
      "2.69 ms ± 6.11 µs per loop (mean ± std. dev. of 7 runs, 100 loops each)\n"
     ]
    },
    {
     "data": {
      "text/plain": [
       "<TimeitResult : 2.69 ms ± 6.11 µs per loop (mean ± std. dev. of 7 runs, 100 loops each)>"
      ]
     },
     "execution_count": 26,
     "metadata": {},
     "output_type": "execute_result"
    }
   ],
   "source": [
    "%%timeit -o\n",
    "from_precomputed_histogram_atomic_varbins[num_blocks, num_threads](mass, scratch_space, 60)"
   ]
  },
  {
   "cell_type": "code",
   "execution_count": 27,
   "id": "ef38aeca-f6ac-4cd6-8ff0-857e12391637",
   "metadata": {},
   "outputs": [],
   "source": [
    "number_of_bins.append(60)\n",
    "execution_time.append(np.mean(_.all_runs) / _.loops)"
   ]
  },
  {
   "cell_type": "code",
   "execution_count": 28,
   "id": "4443c224-7773-41c3-8580-c9239dcf8363",
   "metadata": {},
   "outputs": [
    {
     "name": "stdout",
     "output_type": "stream",
     "text": [
      "2.52 ms ± 4.35 µs per loop (mean ± std. dev. of 7 runs, 100 loops each)\n"
     ]
    },
    {
     "data": {
      "text/plain": [
       "<TimeitResult : 2.52 ms ± 4.35 µs per loop (mean ± std. dev. of 7 runs, 100 loops each)>"
      ]
     },
     "execution_count": 28,
     "metadata": {},
     "output_type": "execute_result"
    }
   ],
   "source": [
    "%%timeit -o\n",
    "from_precomputed_histogram_atomic_varbins[num_blocks, num_threads](mass, scratch_space, 30)"
   ]
  },
  {
   "cell_type": "code",
   "execution_count": 29,
   "id": "a900641c-f18d-45cb-b7e9-74a6c21307ab",
   "metadata": {},
   "outputs": [],
   "source": [
    "number_of_bins.append(30)\n",
    "execution_time.append(np.mean(_.all_runs) / _.loops)"
   ]
  },
  {
   "cell_type": "code",
   "execution_count": 30,
   "id": "160a3eca-382f-44c6-ace6-67dddbc0e778",
   "metadata": {},
   "outputs": [
    {
     "name": "stdout",
     "output_type": "stream",
     "text": [
      "2.65 ms ± 1.69 µs per loop (mean ± std. dev. of 7 runs, 100 loops each)\n"
     ]
    },
    {
     "data": {
      "text/plain": [
       "<TimeitResult : 2.65 ms ± 1.69 µs per loop (mean ± std. dev. of 7 runs, 100 loops each)>"
      ]
     },
     "execution_count": 30,
     "metadata": {},
     "output_type": "execute_result"
    }
   ],
   "source": [
    "%%timeit -o\n",
    "from_precomputed_histogram_atomic_varbins[num_blocks, num_threads](mass, scratch_space, 15)"
   ]
  },
  {
   "cell_type": "code",
   "execution_count": 31,
   "id": "5df1d845-e896-4d61-ac99-b56fa366b917",
   "metadata": {},
   "outputs": [],
   "source": [
    "number_of_bins.append(15)\n",
    "execution_time.append(np.mean(_.all_runs) / _.loops)"
   ]
  },
  {
   "cell_type": "code",
   "execution_count": 32,
   "id": "0de7b7c8-f811-44a5-b378-c5b4e309b2d9",
   "metadata": {},
   "outputs": [
    {
     "name": "stdout",
     "output_type": "stream",
     "text": [
      "2.6 ms ± 6.04 µs per loop (mean ± std. dev. of 7 runs, 100 loops each)\n"
     ]
    },
    {
     "data": {
      "text/plain": [
       "<TimeitResult : 2.6 ms ± 6.04 µs per loop (mean ± std. dev. of 7 runs, 100 loops each)>"
      ]
     },
     "execution_count": 32,
     "metadata": {},
     "output_type": "execute_result"
    }
   ],
   "source": [
    "%%timeit -o\n",
    "from_precomputed_histogram_atomic_varbins[num_blocks, num_threads](mass, scratch_space, 10)"
   ]
  },
  {
   "cell_type": "code",
   "execution_count": 33,
   "id": "02169560-9f75-4867-9597-d3cb8ddbc788",
   "metadata": {},
   "outputs": [],
   "source": [
    "number_of_bins.append(10)\n",
    "execution_time.append(np.mean(_.all_runs) / _.loops)"
   ]
  },
  {
   "cell_type": "code",
   "execution_count": 34,
   "id": "cf389312-afd3-43b3-bf3d-b6cd1a4ca8e5",
   "metadata": {},
   "outputs": [
    {
     "name": "stdout",
     "output_type": "stream",
     "text": [
      "3.18 ms ± 1.51 µs per loop (mean ± std. dev. of 7 runs, 100 loops each)\n"
     ]
    },
    {
     "data": {
      "text/plain": [
       "<TimeitResult : 3.18 ms ± 1.51 µs per loop (mean ± std. dev. of 7 runs, 100 loops each)>"
      ]
     },
     "execution_count": 34,
     "metadata": {},
     "output_type": "execute_result"
    }
   ],
   "source": [
    "%%timeit -o\n",
    "from_precomputed_histogram_atomic_varbins[num_blocks, num_threads](mass, scratch_space, 5)"
   ]
  },
  {
   "cell_type": "code",
   "execution_count": 35,
   "id": "35b39ae8-e622-4874-b9dc-217415164310",
   "metadata": {},
   "outputs": [],
   "source": [
    "number_of_bins.append(5)\n",
    "execution_time.append(np.mean(_.all_runs) / _.loops)"
   ]
  },
  {
   "cell_type": "code",
   "execution_count": 36,
   "id": "86df5725-8171-48c6-ba5b-75bfdedb5274",
   "metadata": {},
   "outputs": [
    {
     "name": "stdout",
     "output_type": "stream",
     "text": [
      "3.31 ms ± 2.44 µs per loop (mean ± std. dev. of 7 runs, 100 loops each)\n"
     ]
    },
    {
     "data": {
      "text/plain": [
       "<TimeitResult : 3.31 ms ± 2.44 µs per loop (mean ± std. dev. of 7 runs, 100 loops each)>"
      ]
     },
     "execution_count": 36,
     "metadata": {},
     "output_type": "execute_result"
    }
   ],
   "source": [
    "%%timeit -o\n",
    "from_precomputed_histogram_atomic_varbins[num_blocks, num_threads](mass, scratch_space, 4)"
   ]
  },
  {
   "cell_type": "code",
   "execution_count": 37,
   "id": "8676ff5f-76ea-4a9e-a050-c0b1070f7246",
   "metadata": {},
   "outputs": [],
   "source": [
    "number_of_bins.append(4)\n",
    "execution_time.append(np.mean(_.all_runs) / _.loops)"
   ]
  },
  {
   "cell_type": "code",
   "execution_count": 38,
   "id": "3f520b3a-928d-405c-b99e-d9f942211c34",
   "metadata": {},
   "outputs": [
    {
     "name": "stdout",
     "output_type": "stream",
     "text": [
      "3.58 ms ± 6.7 µs per loop (mean ± std. dev. of 7 runs, 100 loops each)\n"
     ]
    },
    {
     "data": {
      "text/plain": [
       "<TimeitResult : 3.58 ms ± 6.7 µs per loop (mean ± std. dev. of 7 runs, 100 loops each)>"
      ]
     },
     "execution_count": 38,
     "metadata": {},
     "output_type": "execute_result"
    }
   ],
   "source": [
    "%%timeit -o\n",
    "from_precomputed_histogram_atomic_varbins[num_blocks, num_threads](mass, scratch_space, 3)"
   ]
  },
  {
   "cell_type": "code",
   "execution_count": 39,
   "id": "e2e6fe37-4c02-48d8-8891-ad9cf6ef1e8c",
   "metadata": {},
   "outputs": [],
   "source": [
    "number_of_bins.append(3)\n",
    "execution_time.append(np.mean(_.all_runs) / _.loops)"
   ]
  },
  {
   "cell_type": "code",
   "execution_count": 40,
   "id": "42d4eb06-e4b0-43c5-a692-ca53b3fdc538",
   "metadata": {},
   "outputs": [
    {
     "name": "stdout",
     "output_type": "stream",
     "text": [
      "3.86 ms ± 1.82 µs per loop (mean ± std. dev. of 7 runs, 100 loops each)\n"
     ]
    },
    {
     "data": {
      "text/plain": [
       "<TimeitResult : 3.86 ms ± 1.82 µs per loop (mean ± std. dev. of 7 runs, 100 loops each)>"
      ]
     },
     "execution_count": 40,
     "metadata": {},
     "output_type": "execute_result"
    }
   ],
   "source": [
    "%%timeit -o\n",
    "from_precomputed_histogram_atomic_varbins[num_blocks, num_threads](mass, scratch_space, 2)"
   ]
  },
  {
   "cell_type": "code",
   "execution_count": 41,
   "id": "0db892b1-4df0-43c6-ac22-35c6efec7d6a",
   "metadata": {},
   "outputs": [],
   "source": [
    "number_of_bins.append(2)\n",
    "execution_time.append(np.mean(_.all_runs) / _.loops)"
   ]
  },
  {
   "cell_type": "code",
   "execution_count": 42,
   "id": "4607cfd5-61e7-4b77-838c-46c827d269c2",
   "metadata": {},
   "outputs": [
    {
     "name": "stdout",
     "output_type": "stream",
     "text": [
      "3.89 ms ± 4.63 µs per loop (mean ± std. dev. of 7 runs, 100 loops each)\n"
     ]
    },
    {
     "data": {
      "text/plain": [
       "<TimeitResult : 3.89 ms ± 4.63 µs per loop (mean ± std. dev. of 7 runs, 100 loops each)>"
      ]
     },
     "execution_count": 42,
     "metadata": {},
     "output_type": "execute_result"
    }
   ],
   "source": [
    "%%timeit -o\n",
    "from_precomputed_histogram_atomic_varbins[num_blocks, num_threads](mass, scratch_space, 1)"
   ]
  },
  {
   "cell_type": "code",
   "execution_count": 43,
   "id": "79e72fcf-2fed-442d-8bea-8a863170763c",
   "metadata": {},
   "outputs": [],
   "source": [
    "number_of_bins.append(1)\n",
    "execution_time.append(np.mean(_.all_runs) / _.loops)"
   ]
  },
  {
   "cell_type": "markdown",
   "id": "7cddd4e8-9ca4-4778-8a9e-7327634404be",
   "metadata": {},
   "source": [
    "What we find is that it generally gets worse with fewer bins—more contention—but not nearly as much as the reducer-based implementation."
   ]
  },
  {
   "cell_type": "code",
   "execution_count": 44,
   "id": "a5ecfbaf-6213-40bf-92b2-c26635090e3c",
   "metadata": {
    "editable": true,
    "slideshow": {
     "slide_type": ""
    },
    "tags": []
   },
   "outputs": [
    {
     "data": {
      "image/png": "[encoded data removed]",
      "text/plain": [
       "<Figure size 700x500 with 1 Axes>"
      ]
     },
     "metadata": {},
     "output_type": "display_data"
    }
   ],
   "source": [
    "fig, ax = plt.subplots(figsize=(7, 5))\n",
    "\n",
    "ax.plot(number_of_bins, execution_time, marker=\".\")\n",
    "ax.set_xlabel(\"number of histogram bins\")\n",
    "ax.set_ylabel(\"execution time\");"
   ]
  }
 ],
 "metadata": {
  "kernelspec": {
   "display_name": "Python 3 (ipykernel)",
   "language": "python",
   "name": "python3"
  },
  "language_info": {
   "codemirror_mode": {
    "name": "ipython",
    "version": 3
   },
   "file_extension": ".py",
   "mimetype": "text/x-python",
   "name": "python",
   "nbconvert_exporter": "python",
   "pygments_lexer": "ipython3",
   "version": "3.10.13"
  }
 },
 "nbformat": 4,
 "nbformat_minor": 5
}
