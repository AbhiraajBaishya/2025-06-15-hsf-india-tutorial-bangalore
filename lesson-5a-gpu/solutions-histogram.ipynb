{
 "cells": [
  {
   "cell_type": "markdown",
   "id": "e4aabce9-eeb8-40e7-85b3-5287ba88afe1",
   "metadata": {},
   "source": [
    "# Lesson 5a solutions: Filling histograms on a GPU"
   ]
  }
 ],
 "metadata": {
  "kernelspec": {
   "display_name": "Python 3 (ipykernel)",
   "language": "python",
   "name": "python3"
  },
  "language_info": {
   "codemirror_mode": {
    "name": "ipython",
    "version": 3
   },
   "file_extension": ".py",
   "mimetype": "text/x-python",
   "name": "python",
   "nbconvert_exporter": "python",
   "pygments_lexer": "ipython3",
   "version": "3.10.13"
  }
 },
 "nbformat": 4,
 "nbformat_minor": 5
}
