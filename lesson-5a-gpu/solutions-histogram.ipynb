{
 "cells": [
  {
   "cell_type": "markdown",
   "id": "e4aabce9-eeb8-40e7-85b3-5287ba88afe1",
   "metadata": {
    "editable": true,
    "slideshow": {
     "slide_type": ""
    },
    "tags": []
   },
   "source": [
    "# Lesson 5a solutions: Filling histograms on a GPU"
   ]
  },
  {
   "cell_type": "code",
   "execution_count": null,
   "id": "40aa35b7-ece5-4210-b538-c2e43f649e4a",
   "metadata": {
    "editable": true,
    "slideshow": {
     "slide_type": ""
    },
    "tags": []
   },
   "outputs": [],
   "source": []
  }
 ],
 "metadata": {
  "kernelspec": {
   "display_name": "Python 3 (ipykernel)",
   "language": "python",
   "name": "python3"
  },
  "language_info": {
   "codemirror_mode": {
    "name": "ipython",
    "version": 3
   },
   "file_extension": ".py",
   "mimetype": "text/x-python",
   "name": "python",
   "nbconvert_exporter": "python",
   "pygments_lexer": "ipython3",
   "version": "3.10.13"
  }
 },
 "nbformat": 4,
 "nbformat_minor": 5
}
