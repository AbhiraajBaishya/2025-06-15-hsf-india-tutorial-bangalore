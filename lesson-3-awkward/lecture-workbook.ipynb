{
 "cells": [
  {
   "cell_type": "markdown",
   "id": "858ec55b-e659-4e07-a7e2-aead35422aae",
   "metadata": {},
   "source": [
    "# Lesson 3: Ragged and nested arrays (workbook)"
   ]
  }
 ],
 "metadata": {
  "kernelspec": {
   "display_name": "Python 3 (ipykernel)",
   "language": "python",
   "name": "python3"
  },
  "language_info": {
   "codemirror_mode": {
    "name": "ipython",
    "version": 3
   },
   "file_extension": ".py",
   "mimetype": "text/x-python",
   "name": "python",
   "nbconvert_exporter": "python",
   "pygments_lexer": "ipython3",
   "version": "3.10.13"
  }
 },
 "nbformat": 4,
 "nbformat_minor": 5
}
