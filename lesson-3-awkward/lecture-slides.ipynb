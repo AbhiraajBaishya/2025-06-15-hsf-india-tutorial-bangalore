{
 "cells": [
  {
   "cell_type": "markdown",
   "id": "b9607e38-b639-4670-91f3-7f9a3c767402",
   "metadata": {},
   "source": [
    "# Lesson 3: Ragged and nested arrays"
   ]
  }
 ],
 "metadata": {
  "kernelspec": {
   "display_name": "Python 3 (ipykernel)",
   "language": "python",
   "name": "python3"
  },
  "language_info": {
   "codemirror_mode": {
    "name": "ipython",
    "version": 3
   },
   "file_extension": ".py",
   "mimetype": "text/x-python",
   "name": "python",
   "nbconvert_exporter": "python",
   "pygments_lexer": "ipython3",
   "version": "3.10.13"
  }
 },
 "nbformat": 4,
 "nbformat_minor": 5
}
