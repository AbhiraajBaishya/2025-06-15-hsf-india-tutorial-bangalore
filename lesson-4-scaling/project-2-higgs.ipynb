{
 "cells": [
  {
   "cell_type": "markdown",
   "id": "33c0108d-0df8-4c29-8ff5-28789826b78a",
   "metadata": {},
   "source": [
    "# Lesson 4 project 2: Higgs combinatorics in ragged arrays"
   ]
  }
 ],
 "metadata": {
  "kernelspec": {
   "display_name": "Python 3 (ipykernel)",
   "language": "python",
   "name": "python3"
  },
  "language_info": {
   "codemirror_mode": {
    "name": "ipython",
    "version": 3
   },
   "file_extension": ".py",
   "mimetype": "text/x-python",
   "name": "python",
   "nbconvert_exporter": "python",
   "pygments_lexer": "ipython3",
   "version": "3.10.13"
  }
 },
 "nbformat": 4,
 "nbformat_minor": 5
}
