{
 "cells": [
  {
   "cell_type": "markdown",
   "id": "0f368607-c3d6-41d9-800b-3e064bf23984",
   "metadata": {},
   "source": [
    "# Lesson 4 solutions 1: Drawing the Mandelbrot set"
   ]
  }
 ],
 "metadata": {
  "kernelspec": {
   "display_name": "Python 3 (ipykernel)",
   "language": "python",
   "name": "python3"
  },
  "language_info": {
   "codemirror_mode": {
    "name": "ipython",
    "version": 3
   },
   "file_extension": ".py",
   "mimetype": "text/x-python",
   "name": "python",
   "nbconvert_exporter": "python",
   "pygments_lexer": "ipython3",
   "version": "3.10.13"
  }
 },
 "nbformat": 4,
 "nbformat_minor": 5
}
