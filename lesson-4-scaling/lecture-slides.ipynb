{
 "cells": [
  {
   "cell_type": "markdown",
   "id": "8b272c6c-1c52-4c71-bf33-00072b264b08",
   "metadata": {},
   "source": [
    "# Lesson 4: Vertical and horizontal scaling"
   ]
  }
 ],
 "metadata": {
  "kernelspec": {
   "display_name": "Python 3 (ipykernel)",
   "language": "python",
   "name": "python3"
  },
  "language_info": {
   "codemirror_mode": {
    "name": "ipython",
    "version": 3
   },
   "file_extension": ".py",
   "mimetype": "text/x-python",
   "name": "python",
   "nbconvert_exporter": "python",
   "pygments_lexer": "ipython3",
   "version": "3.10.13"
  }
 },
 "nbformat": 4,
 "nbformat_minor": 5
}
