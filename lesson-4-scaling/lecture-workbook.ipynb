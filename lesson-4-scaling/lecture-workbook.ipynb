{
 "cells": [
  {
   "cell_type": "markdown",
   "id": "ac05a68d-f934-4924-a4b6-8c01c763dfc2",
   "metadata": {},
   "source": [
    "# Lesson 4: Vertical and horizontal scaling (workbook)"
   ]
  }
 ],
 "metadata": {
  "kernelspec": {
   "display_name": "Python 3 (ipykernel)",
   "language": "python",
   "name": "python3"
  },
  "language_info": {
   "codemirror_mode": {
    "name": "ipython",
    "version": 3
   },
   "file_extension": ".py",
   "mimetype": "text/x-python",
   "name": "python",
   "nbconvert_exporter": "python",
   "pygments_lexer": "ipython3",
   "version": "3.10.13"
  }
 },
 "nbformat": 4,
 "nbformat_minor": 5
}
